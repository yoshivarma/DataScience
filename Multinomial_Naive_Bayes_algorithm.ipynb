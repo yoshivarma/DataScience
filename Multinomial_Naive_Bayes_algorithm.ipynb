{
  "cells": [
    {
      "cell_type": "markdown",
      "metadata": {
        "id": "view-in-github",
        "colab_type": "text"
      },
      "source": [
        "<a href=\"https://colab.research.google.com/github/yoshivarma/DataScience/blob/main/Multinomial_Naive_Bayes_algorithm.ipynb\" target=\"_parent\"><img src=\"https://colab.research.google.com/assets/colab-badge.svg\" alt=\"Open In Colab\"/></a>"
      ]
    },
    {
      "cell_type": "markdown",
      "source": [
        "MULTINOMIAL NAIVE BAYES ALGORITHM\n"
      ],
      "metadata": {
        "id": "TlNMMUkVCnN_"
      }
    },
    {
      "cell_type": "code",
      "execution_count": 1,
      "metadata": {
        "id": "MWzboDu4h7JO"
      },
      "outputs": [],
      "source": [
        "from collections import Counter\n",
        "import math\n",
        "from math import log\n"
      ]
    },
    {
      "cell_type": "code",
      "execution_count": 2,
      "metadata": {
        "colab": {
          "base_uri": "https://localhost:8080/"
        },
        "id": "AYtaw2YZVLdZ",
        "outputId": "74b89226-dc3c-4b8a-a443-aa8a534fb6fa"
      },
      "outputs": [
        {
          "output_type": "stream",
          "name": "stdout",
          "text": [
            "[nltk_data] Downloading package stopwords to /root/nltk_data...\n",
            "[nltk_data]   Unzipping corpora/stopwords.zip.\n"
          ]
        }
      ],
      "source": [
        "import re\n",
        "import os\n",
        "import glob\n",
        "import random\n",
        "import numpy as np\n",
        "from nltk.corpus import stopwords\n",
        "import nltk\n",
        "\n",
        "REPLACE_NO_SPACE = re.compile(\"[._;:!`¦\\'?,\\\"()\\[\\]]\")\n",
        "REPLACE_WITH_SPACE = re.compile(\"(<br\\s*/><br\\s*/>)|(\\-)|(\\/)\")\n",
        "nltk.download('stopwords')  \n",
        "\n",
        "def preprocess_text(text):\n",
        "\tstop_words = set(stopwords.words('english'))\n",
        "\ttext = REPLACE_NO_SPACE.sub(\"\", text)\n",
        "\ttext = REPLACE_WITH_SPACE.sub(\" \", text)\n",
        "\ttext = re.sub(r'\\d+', '', text)\n",
        "\ttext = text.lower()\n",
        "\twords = text.split()\n",
        "\treturn [w for w in words if w not in stop_words]\n",
        "\n",
        "def load_training_set(percentage_positives, percentage_negatives):\n",
        "  \n",
        "  vocab = set()\n",
        "  positive_instances = []\n",
        "  negative_instances = []\n",
        "  for filename in glob.glob(\"/content/drive/Othercomputers/My MacBook Air/Spring_2022/hw2/train/pos/*.txt\"):\n",
        "    if random.random() > percentage_positives:\n",
        "      continue\n",
        "    with open(os.path.join(os.getcwd(), filename), 'r') as f:\n",
        "      contents = f.read()\n",
        "      contents = preprocess_text(contents)\n",
        "      positive_instances.append(contents)\n",
        "      vocab = vocab.union(set(contents))\n",
        "  for filename in glob.glob(\"/content/drive/Othercomputers/My MacBook Air/Spring_2022/hw2/train/neg/*.txt\"):\n",
        "    if random.random() > percentage_negatives:\n",
        "      continue\n",
        "    with open(os.path.join(os.getcwd(), filename), 'r') as f:\n",
        "      contents = f.read()\n",
        "      contents = preprocess_text(contents)\n",
        "      negative_instances.append(contents)\n",
        "      vocab = vocab.union(set(contents))\t\n",
        "  return positive_instances, negative_instances, vocab\n",
        "\n",
        "def load_test_set(percentage_positives, percentage_negatives):\n",
        "\tpositive_instances = []\n",
        "\tnegative_instances = []\n",
        "\tfor filename in glob.glob(\"/content/drive/Othercomputers/My MacBook Air/Spring_2022/hw2/test/pos/*.txt\"):\n",
        "\t\tif random.random() > percentage_positives:\n",
        "\t\t\tcontinue\n",
        "\t\twith open(os.path.join(os.getcwd(), filename), 'r') as f:\n",
        "\t\t\tcontents = f.read()\n",
        "\t\t\tcontents = preprocess_text(contents)\n",
        "\t\t\tpositive_instances.append(contents)\n",
        "\tfor filename in glob.glob(\"/content/drive/Othercomputers/My MacBook Air/Spring_2022/hw2/test/neg/*.txt\"):\n",
        "\t\tif random.random() > percentage_negatives:\n",
        "\t\t\tcontinue\n",
        "\t\twith open(os.path.join(os.getcwd(), filename), 'r') as f:\n",
        "\t\t\tcontents = f.read()\n",
        "\t\t\tcontents = preprocess_text(contents)\n",
        "\t\t\tnegative_instances.append(contents)\n",
        "\treturn positive_instances, negative_instances\n",
        "\t\t\n"
      ]
    },
    {
      "cell_type": "markdown",
      "metadata": {
        "id": "TC8VOnX5A3th"
      },
      "source": [
        "Question - 1"
      ]
    },
    {
      "cell_type": "code",
      "execution_count": 3,
      "metadata": {
        "id": "QiHLqtbEtzRQ"
      },
      "outputs": [],
      "source": [
        "def counter_table(x_train):\n",
        "  word_counts = {}\n",
        "  x_sum = 0\n",
        "  for doc in x_train:\n",
        "    counts = Counter(doc)\n",
        "    for word, count in counts.items():\n",
        "      if word in word_counts.keys():\n",
        "        word_counts[word] += count\n",
        "      else:\n",
        "        word_counts[word] = count\n",
        "      x_sum = x_sum + count\n",
        "  return word_counts, x_sum"
      ]
    },
    {
      "cell_type": "code",
      "execution_count": 4,
      "metadata": {
        "id": "qSqsFuKm1xSi"
      },
      "outputs": [],
      "source": [
        "def classify_new_document(test_document, pos_train, neg_train, pos_word_counts, pos_sum, neg_sum, neg_word_counts):\n",
        "  \n",
        "  pos_probability = 1\n",
        "  neg_probability = 1\n",
        "\n",
        "\n",
        "  #probabilities of class labels\n",
        "  pos_label_prob = len(pos_train)/ (len(pos_train)+len(neg_train))\n",
        "  neg_label_prob = len(neg_train)/ (len(pos_train)+len(neg_train))\n",
        "  \n",
        "  #Probabilities product for each word in test document\n",
        "  for word in test_document:\n",
        "    if word in pos_word_counts.keys():\n",
        "      pos_probability = (pos_word_counts[word]/pos_sum) * pos_probability\n",
        "    else:\n",
        "      pos_probability = 0\n",
        "    if word in neg_word_counts.keys():\n",
        "      neg_probability = (neg_word_counts[word]/neg_sum) * neg_probability\n",
        "    else:\n",
        "      neg_probability = 0\n",
        "\n",
        "  pos_test_probability = pos_probability * pos_label_prob\n",
        "  neg_test_probability = neg_probability * neg_label_prob\n",
        "  if pos_test_probability > neg_test_probability:\n",
        "    return 1\n",
        "  else:\n",
        "    return 0\n"
      ]
    },
    {
      "cell_type": "code",
      "execution_count": 5,
      "metadata": {
        "id": "LKRmz-5zVUQ8"
      },
      "outputs": [],
      "source": [
        "def evaluation_metrics(x, y):\n",
        "  #loading training data and test data\n",
        "  (pos_train, neg_train, vocab) = load_training_set(x, y)  \n",
        "  (pos_test, neg_test) = load_test_set(x, y)\n",
        "  \n",
        "  #initializing factors for accuracy, pecision, and recall\n",
        "  pos_accuracy_counter = 0\n",
        "  neg_accuracy_counter = 0 \n",
        "\n",
        "  #initializing confusion matrix \n",
        "  confusion_matrix = np.matrix([[0,0],[0,0]])\n",
        "\n",
        "  #counter table for class labels and sum of all counts\n",
        "  pos_word_counts, pos_sum = counter_table(pos_train)\n",
        "  neg_word_counts, neg_sum = counter_table(neg_train)\n",
        "\n",
        "  # Evaluation for positive test data\n",
        "  for test_document in pos_test:\n",
        "    test_value = classify_new_document(test_document, pos_train, neg_train, pos_word_counts, pos_sum, neg_sum, neg_word_counts)\n",
        "    if test_value == 1:\n",
        "      pos_accuracy_counter +=1\n",
        "      confusion_matrix[0,0] += 1\n",
        "    else:\n",
        "      confusion_matrix[0,1] +=1\n",
        "\n",
        "  #Evaluation for negative test data\n",
        "  for test_document in neg_test:\n",
        "    test_value = classify_new_document(test_document, pos_train, neg_train, pos_word_counts, pos_sum, neg_sum, neg_word_counts)\n",
        "    if test_value == 0:\n",
        "      neg_accuracy_counter +=1\n",
        "      confusion_matrix[1,1] +=1\n",
        "    else:\n",
        "      confusion_matrix[1,0] +=1\n",
        "\n",
        "  #calculating accuracy of the model\n",
        "  accuracy = (pos_accuracy_counter + neg_accuracy_counter)/(len(pos_test)+ len(neg_test))\n",
        "\n",
        "  #calculating precision of the model\n",
        "  precision = confusion_matrix[0,0]/ (confusion_matrix[0,0]+ confusion_matrix[1,0]) \n",
        "\n",
        "  #calculating recall of the model\n",
        "  recall = confusion_matrix[0,0]/ (confusion_matrix[0,0]+confusion_matrix[0,1])\n",
        "\n",
        "  return accuracy, confusion_matrix, precision, recall"
      ]
    },
    {
      "cell_type": "code",
      "source": [
        "accuracy, confusion_matrix, precision, recall = evaluation_metrics(0.2, 0.2)"
      ],
      "metadata": {
        "id": "uIbdQ1f25vaH"
      },
      "execution_count": 7,
      "outputs": []
    },
    {
      "cell_type": "code",
      "source": [
        "accuracy"
      ],
      "metadata": {
        "colab": {
          "base_uri": "https://localhost:8080/"
        },
        "id": "ncdWitz8xG9p",
        "outputId": "ef574bef-bf2d-4389-f412-022d6214a348"
      },
      "execution_count": 8,
      "outputs": [
        {
          "output_type": "execute_result",
          "data": {
            "text/plain": [
              "0.5275974025974026"
            ]
          },
          "metadata": {},
          "execution_count": 8
        }
      ]
    },
    {
      "cell_type": "code",
      "source": [
        "confusion_matrix"
      ],
      "metadata": {
        "colab": {
          "base_uri": "https://localhost:8080/"
        },
        "id": "_lBEs6JTxJaf",
        "outputId": "a19dcaa7-f1bc-4359-d146-219572fb3428"
      },
      "execution_count": 9,
      "outputs": [
        {
          "output_type": "execute_result",
          "data": {
            "text/plain": [
              "matrix([[ 159, 2285],\n",
              "        [  43, 2441]])"
            ]
          },
          "metadata": {},
          "execution_count": 9
        }
      ]
    },
    {
      "cell_type": "code",
      "source": [
        "precision"
      ],
      "metadata": {
        "colab": {
          "base_uri": "https://localhost:8080/"
        },
        "id": "nFc8wDOBxLMb",
        "outputId": "fe90ed9a-466a-4423-839a-0e4aca613a0c"
      },
      "execution_count": 10,
      "outputs": [
        {
          "output_type": "execute_result",
          "data": {
            "text/plain": [
              "0.7871287128712872"
            ]
          },
          "metadata": {},
          "execution_count": 10
        }
      ]
    },
    {
      "cell_type": "code",
      "source": [
        "recall"
      ],
      "metadata": {
        "colab": {
          "base_uri": "https://localhost:8080/"
        },
        "id": "_VS6D8LVxNa1",
        "outputId": "8ed3bfe8-a455-4862-cfb0-af5605f0826f"
      },
      "execution_count": 11,
      "outputs": [
        {
          "output_type": "execute_result",
          "data": {
            "text/plain": [
              "0.06505728314238952"
            ]
          },
          "metadata": {},
          "execution_count": 11
        }
      ]
    },
    {
      "cell_type": "code",
      "execution_count": 12,
      "metadata": {
        "id": "mFTRbvKXZmxl"
      },
      "outputs": [],
      "source": [
        "def classify_new_document_log(test_document, pos_train, neg_train, pos_word_counts, pos_sum, neg_word_counts, neg_sum):\n",
        "  \n",
        "  pos_probability_log = 0\n",
        "  neg_probability_log = 0\n",
        "\n",
        "  #probabilities of class labels\n",
        "  pos_label_prob = len(pos_train)/ len(pos_train)+len(neg_train)\n",
        "  pos_label_prob = log(pos_label_prob)\n",
        "  neg_label_prob = len(neg_train)/ len(pos_train)+len(neg_train)\n",
        "  neg_label_prob = log(neg_label_prob)\n",
        "  \n",
        "  #Probabilities product for each word in test document\n",
        "  for word in test_document:\n",
        "    if word in pos_word_counts.keys():\n",
        "      pos_probability = (pos_word_counts[word]/pos_sum)\n",
        "      pos_probability = log(pos_probability)\n",
        "      pos_probability_log = pos_probability_log +pos_probability\n",
        "\n",
        "    if word in neg_word_counts.keys():\n",
        "      neg_probability = (neg_word_counts[word]/neg_sum) \n",
        "      neg_probability = log(neg_probability)\n",
        "      neg_probability_log = neg_probability_log +neg_probability\n",
        "\n",
        "  pos_test_probability = pos_probability_log + pos_label_prob\n",
        "  neg_test_probability = neg_probability_log + neg_label_prob\n",
        "  if pos_test_probability >neg_test_probability:\n",
        "    return 1\n",
        "  else:\n",
        "    return 0\n"
      ]
    },
    {
      "cell_type": "code",
      "execution_count": 13,
      "metadata": {
        "id": "dCZK1Du0wSni"
      },
      "outputs": [],
      "source": [
        "def evaluation_metrics_log(x, y):\n",
        "  #loading training data and test data\n",
        "  (pos_train, neg_train, vocab) = load_training_set(x, y)  \n",
        "  (pos_test, neg_test) = load_test_set(x, y)\n",
        "  \n",
        "  #initializing factors for accuracy, pecision, and recall\n",
        "  pos_accuracy_counter = 0\n",
        "  neg_accuracy_counter = 0 \n",
        "\n",
        "  #initializing confusion matrix \n",
        "  confusion_matrix = np.matrix([[0,0],[0,0]])\n",
        "\n",
        "  #counter table for class labels and sum of all counts\n",
        "  pos_word_counts, pos_sum = counter_table(pos_train)\n",
        "  neg_word_counts, neg_sum = counter_table(neg_train)\n",
        "\n",
        "  # Evaluation for positive test data\n",
        "  for test_document1 in pos_test:\n",
        "    test_value = classify_new_document_log(test_document1, pos_train, neg_train, pos_word_counts, pos_sum, neg_word_counts, neg_sum)\n",
        "    if test_value == 1:\n",
        "      pos_accuracy_counter +=1\n",
        "      confusion_matrix[0,0] += 1\n",
        "    else:\n",
        "      confusion_matrix[0,1] +=1\n",
        "\n",
        "  #Evaluation for negative test data\n",
        "  for test_document2 in neg_test:\n",
        "    test_value = classify_new_document_log(test_document2, pos_train, neg_train, pos_word_counts, pos_sum, neg_word_counts, neg_sum)\n",
        "    if test_value == 0:\n",
        "      neg_accuracy_counter +=1\n",
        "      confusion_matrix[1,1] +=1\n",
        "    else:\n",
        "      confusion_matrix[1,0] +=1\n",
        "\n",
        "  #calculating accuracy of the model\n",
        "  accuracy = (pos_accuracy_counter + neg_accuracy_counter)/(len(pos_test)+ len(neg_test))\n",
        "\n",
        "  #calculating precision of the model\n",
        "  precision = confusion_matrix[0,0]/ (confusion_matrix[0,0]+ confusion_matrix[1,0])\n",
        "   \n",
        "  #calculating recall of the model\n",
        "  recall = confusion_matrix[0,0]/ (confusion_matrix[0,0]+confusion_matrix[0,1])\n",
        "  \n",
        "\n",
        "  return accuracy, confusion_matrix, precision, recall "
      ]
    },
    {
      "cell_type": "code",
      "execution_count": 14,
      "metadata": {
        "id": "FAHGJU6G8lEm"
      },
      "outputs": [],
      "source": [
        "accuracy_log, confusion_matrix_log, precision_log, recall_log = evaluation_metrics_log(0.2, 0.2)"
      ]
    },
    {
      "cell_type": "code",
      "execution_count": 15,
      "metadata": {
        "colab": {
          "base_uri": "https://localhost:8080/"
        },
        "id": "aUDdUQdOJk4I",
        "outputId": "3d1648a5-3a74-4e04-b48a-4c63fd098d3e"
      },
      "outputs": [
        {
          "output_type": "execute_result",
          "data": {
            "text/plain": [
              "0.5766640253565769"
            ]
          },
          "metadata": {},
          "execution_count": 15
        }
      ],
      "source": [
        "accuracy_log"
      ]
    },
    {
      "cell_type": "code",
      "source": [
        "confusion_matrix_log"
      ],
      "metadata": {
        "colab": {
          "base_uri": "https://localhost:8080/"
        },
        "id": "2kAudMhHQTnF",
        "outputId": "5b6d4871-9ed4-458f-b0fc-94b2cbfdeb4e"
      },
      "execution_count": 16,
      "outputs": [
        {
          "output_type": "execute_result",
          "data": {
            "text/plain": [
              "matrix([[1251, 1317],\n",
              "        [ 820, 1660]])"
            ]
          },
          "metadata": {},
          "execution_count": 16
        }
      ]
    },
    {
      "cell_type": "code",
      "source": [
        "precision_log"
      ],
      "metadata": {
        "colab": {
          "base_uri": "https://localhost:8080/"
        },
        "id": "0biZE6ffQWq9",
        "outputId": "06a2759d-8d4a-4ae9-8a0a-f441c28469d4"
      },
      "execution_count": 17,
      "outputs": [
        {
          "output_type": "execute_result",
          "data": {
            "text/plain": [
              "0.6040560115886046"
            ]
          },
          "metadata": {},
          "execution_count": 17
        }
      ]
    },
    {
      "cell_type": "code",
      "source": [
        "recall_log"
      ],
      "metadata": {
        "colab": {
          "base_uri": "https://localhost:8080/"
        },
        "id": "4DE1dRmaQZGl",
        "outputId": "d7a2c757-45eb-4067-b11c-de8a432b80ce"
      },
      "execution_count": 18,
      "outputs": [
        {
          "output_type": "execute_result",
          "data": {
            "text/plain": [
              "0.4871495327102804"
            ]
          },
          "metadata": {},
          "execution_count": 18
        }
      ]
    },
    {
      "cell_type": "markdown",
      "metadata": {
        "id": "ORb46KJzAzTM"
      },
      "source": [
        "Question - 2\n"
      ]
    },
    {
      "cell_type": "code",
      "execution_count": 19,
      "metadata": {
        "id": "L5ltDodz9OB8"
      },
      "outputs": [],
      "source": [
        "def classify_new_document_laplace(test_document, pos_train, vocab, neg_train, pos_word_counts, pos_sum, neg_word_counts, neg_sum):\n",
        "  \n",
        "  pos_probability = 0\n",
        "  neg_probability = 0\n",
        "\n",
        "  #probabilities of class labels\n",
        "  pos_label_prob = len(pos_train)/ (len(pos_train)+len(neg_train))\n",
        "  neg_label_prob = len(neg_train)/ (len(pos_train)+len(neg_train))\n",
        "  \n",
        "  #Probabilities product for each word in test document\n",
        "  for word in test_document:\n",
        "    if word in pos_word_counts.keys():\n",
        "      pos_probability = log((pos_word_counts[word] + 1)/(pos_sum + len(vocab))) + pos_probability\n",
        "    else:\n",
        "      pos_probability = log(1/ (pos_sum + len(vocab))) + pos_probability\n",
        "    if word in neg_word_counts.keys():\n",
        "      neg_probability = log((neg_word_counts[word]+1)/ (neg_sum + len(vocab))) + neg_probability\n",
        "    else:\n",
        "      neg_probability = log(1/ (neg_sum + len(vocab))) + neg_probability\n",
        "\n",
        "  pos_test_probability = pos_probability + pos_label_prob\n",
        "  neg_test_probability = neg_probability + neg_label_prob\n",
        "  if pos_test_probability > neg_test_probability:\n",
        "    return 1\n",
        "  else:\n",
        "    return 0\n"
      ]
    },
    {
      "cell_type": "code",
      "execution_count": 20,
      "metadata": {
        "id": "SM9-yuuH64vJ"
      },
      "outputs": [],
      "source": [
        "def evaluation_metrics_laplace(x, y):\n",
        "  #loading training data and test data\n",
        "  (pos_train, neg_train, vocab) = load_training_set(x, y)  \n",
        "  (pos_test, neg_test) = load_test_set(x, y)\n",
        "  \n",
        "  #initializing factors for accuracy, pecision, and recall\n",
        "  pos_accuracy_counter = 0\n",
        "  neg_accuracy_counter = 0 \n",
        "\n",
        "  #initializing confusion matrix \n",
        "  confusion_matrix = np.matrix([[0,0],[0,0]])\n",
        "\n",
        "  #counter table for class labels and sum of all counts\n",
        "  pos_word_counts, pos_sum = counter_table(pos_train)\n",
        "  neg_word_counts, neg_sum = counter_table(neg_train)\n",
        "\n",
        "  # Evaluation for positive test data\n",
        "  for test_document in pos_test:\n",
        "    test_value = classify_new_document_laplace(test_document, pos_train, vocab, neg_train, pos_word_counts, pos_sum, neg_word_counts, neg_sum)\n",
        "    if test_value == 1:\n",
        "      pos_accuracy_counter +=1\n",
        "      confusion_matrix[0,0] += 1\n",
        "    else:\n",
        "      confusion_matrix[0,1] +=1\n",
        "\n",
        "  #Evaluation for negative test data\n",
        "  for test_document in neg_test:\n",
        "    test_value = classify_new_document_laplace(test_document, pos_train, vocab, neg_train, pos_word_counts, pos_sum, neg_word_counts, neg_sum)\n",
        "    if test_value == 0:\n",
        "      neg_accuracy_counter +=1\n",
        "      confusion_matrix[1,1] +=1\n",
        "    else:\n",
        "      confusion_matrix[1,0] +=1\n",
        "\n",
        "  #calculating accuracy of the model\n",
        "  accuracy = (pos_accuracy_counter + neg_accuracy_counter)/(len(pos_test)+ len(neg_test))\n",
        "\n",
        "  #calculating precision of the model\n",
        "  precision = confusion_matrix[0,0]/ (confusion_matrix[0,0]+ confusion_matrix[1,0])\n",
        "  \n",
        "\n",
        "  #calculating recall of the model\n",
        "  recall = confusion_matrix[0,0]/ (confusion_matrix[0,0]+confusion_matrix[0,1])\n",
        "\n",
        "  return accuracy, confusion_matrix, precision, recall"
      ]
    },
    {
      "cell_type": "code",
      "execution_count": 21,
      "metadata": {
        "id": "veTws8sD_TPO"
      },
      "outputs": [],
      "source": [
        "accuracy_lap, confusion_matrix_lap, precision_lap, recall_lap= evaluation_metrics_laplace(0.2, 0.2)"
      ]
    },
    {
      "cell_type": "code",
      "execution_count": 22,
      "metadata": {
        "colab": {
          "base_uri": "https://localhost:8080/"
        },
        "id": "zINAO6ecACSd",
        "outputId": "2eea8d06-8d57-45ed-efb2-cfee2cc03d29"
      },
      "outputs": [
        {
          "output_type": "execute_result",
          "data": {
            "text/plain": [
              "0.8213854208618606"
            ]
          },
          "metadata": {},
          "execution_count": 22
        }
      ],
      "source": [
        "accuracy_lap"
      ]
    },
    {
      "cell_type": "code",
      "source": [
        "confusion_matrix_lap"
      ],
      "metadata": {
        "colab": {
          "base_uri": "https://localhost:8080/"
        },
        "id": "7u1iAKR6UKox",
        "outputId": "4a3c4d3b-029f-4b38-85e9-15bf99c87083"
      },
      "execution_count": 23,
      "outputs": [
        {
          "output_type": "execute_result",
          "data": {
            "text/plain": [
              "matrix([[1955,  581],\n",
              "        [ 306, 2124]])"
            ]
          },
          "metadata": {},
          "execution_count": 23
        }
      ]
    },
    {
      "cell_type": "code",
      "source": [
        "precision_lap"
      ],
      "metadata": {
        "colab": {
          "base_uri": "https://localhost:8080/"
        },
        "id": "Xq-kaTs5w_Cy",
        "outputId": "e380d512-3c8f-4fca-8183-7cff0698c29f"
      },
      "execution_count": 24,
      "outputs": [
        {
          "output_type": "execute_result",
          "data": {
            "text/plain": [
              "0.8646616541353384"
            ]
          },
          "metadata": {},
          "execution_count": 24
        }
      ]
    },
    {
      "cell_type": "code",
      "source": [
        "recall_lap"
      ],
      "metadata": {
        "colab": {
          "base_uri": "https://localhost:8080/"
        },
        "id": "W-loUmegxBew",
        "outputId": "2bdcfc3d-0630-4cca-f976-c6ce540a8e6c"
      },
      "execution_count": 25,
      "outputs": [
        {
          "output_type": "execute_result",
          "data": {
            "text/plain": [
              "0.7708990536277602"
            ]
          },
          "metadata": {},
          "execution_count": 25
        }
      ]
    },
    {
      "cell_type": "code",
      "execution_count": 26,
      "metadata": {
        "id": "EpCgdTZnAwdc"
      },
      "outputs": [],
      "source": [
        "def classify_new_document_laplace_alpha(test_document, pos_train, vocab, neg_train, pos_word_counts, pos_sum, neg_word_counts, neg_sum, a):\n",
        "  \n",
        "  pos_probability = 0\n",
        "  neg_probability = 0\n",
        "\n",
        "  #probabilities of class labels\n",
        "  pos_label_prob = len(pos_train)/ (len(pos_train)+len(neg_train))\n",
        "  neg_label_prob = len(neg_train)/ (len(pos_train)+len(neg_train))\n",
        "  \n",
        "  #Probabilities product for each word in test document\n",
        "  for word in test_document:\n",
        "    if word in pos_word_counts.keys():\n",
        "      pos_probability = log((pos_word_counts[word] + a)/(pos_sum + a * len(vocab))) + pos_probability\n",
        "    else:\n",
        "      pos_probability = log(a/ (pos_sum + a * len(vocab))) + pos_probability\n",
        "    if word in neg_word_counts.keys():\n",
        "      neg_probability = log((neg_word_counts[word] + a)/(neg_sum + a * len(vocab))) + neg_probability\n",
        "    else:\n",
        "      neg_probability = log(a/ (neg_sum + a * len(vocab))) + neg_probability\n",
        "\n",
        "  pos_test_probability = pos_probability + pos_label_prob\n",
        "  neg_test_probability = neg_probability + neg_label_prob\n",
        "  if pos_test_probability > neg_test_probability:\n",
        "    return 1\n",
        "  else:\n",
        "    return 0\n"
      ]
    },
    {
      "cell_type": "code",
      "execution_count": 27,
      "metadata": {
        "id": "iuW4moEHCXwl"
      },
      "outputs": [],
      "source": [
        "def evaluation_metrics_laplace_alpha(x, y):\n",
        "  #loading training data and test data\n",
        "  (pos_train, neg_train, vocab) = load_training_set(x, y)  \n",
        "  (pos_test, neg_test) = load_test_set(x, y)\n",
        "  \n",
        "  #initializing factors for accuracy, pecision, and recall\n",
        "  accuracy_table = []\n",
        "\n",
        "  #counter table for class labels and sum of all counts\n",
        "  pos_word_counts, pos_sum = counter_table(pos_train)\n",
        "  neg_word_counts, neg_sum = counter_table(neg_train)\n",
        "\n",
        "  a = 0.0001\n",
        "  for i in range(8):\n",
        "    pos_accuracy_counter = 0\n",
        "    neg_accuracy_counter = 0 \n",
        "    \n",
        "  # Evaluation for positive test data\n",
        "    for test_document in pos_test:\n",
        "      test_value = classify_new_document_laplace_alpha(test_document, pos_train, vocab, neg_train, pos_word_counts, pos_sum, neg_word_counts, neg_sum, a)\n",
        "      if test_value == 1:\n",
        "        pos_accuracy_counter +=1\n",
        "\n",
        "    #Evaluation for negative test data\n",
        "    for test_document in neg_test:\n",
        "      test_value = classify_new_document_laplace_alpha(test_document, pos_train, vocab, neg_train, pos_word_counts, pos_sum, neg_word_counts, neg_sum, a)\n",
        "      if test_value == 0:\n",
        "        neg_accuracy_counter +=1\n",
        "\n",
        "    #calculating accuracy of the model\n",
        "    accuracy = (pos_accuracy_counter + neg_accuracy_counter)/(len(pos_test)+ len(neg_test))\n",
        "    accuracy_table.append(accuracy)\n",
        "\n",
        "    a = a * 10 \n",
        "    \n",
        "\n",
        "  return accuracy_table"
      ]
    },
    {
      "cell_type": "code",
      "execution_count": 28,
      "metadata": {
        "id": "xO03NeKdEEH6"
      },
      "outputs": [],
      "source": [
        "accuracy_table = evaluation_metrics_laplace_alpha(0.2, 0.2)"
      ]
    },
    {
      "cell_type": "code",
      "execution_count": 29,
      "metadata": {
        "colab": {
          "base_uri": "https://localhost:8080/"
        },
        "id": "3Rl8Yj4IEp4X",
        "outputId": "5c8e4217-7ecc-4629-9f33-bcdea51cb702"
      },
      "outputs": [
        {
          "output_type": "execute_result",
          "data": {
            "text/plain": [
              "[0.7392089941778759,\n",
              " 0.7570768921903233,\n",
              " 0.7811684400722746,\n",
              " 0.8092752459345512,\n",
              " 0.8283477213410961,\n",
              " 0.8365790002007629,\n",
              " 0.8152981329050392,\n",
              " 0.7496486649267216]"
            ]
          },
          "metadata": {},
          "execution_count": 29
        }
      ],
      "source": [
        "accuracy_table"
      ]
    },
    {
      "cell_type": "code",
      "source": [
        "#Accuracy curve for testing data\n",
        "import matplotlib.pyplot as plt \n",
        "\n",
        "#define x and y coordinates\n",
        "x = np.arange(-4, 4, 1)\n",
        "y = np.array(accuracy_table)\n",
        "fig, ax = plt.subplots()\n",
        "\n",
        "plt.plot(x, y)\n",
        "plt.savefig('testint_accuracies.png', bbox_inches='tight')"
      ],
      "metadata": {
        "colab": {
          "base_uri": "https://localhost:8080/",
          "height": 266
        },
        "id": "VlgfLF40CS6C",
        "outputId": "e9904b2d-6957-41c8-c3fd-9088ba902f45"
      },
      "execution_count": 30,
      "outputs": [
        {
          "output_type": "display_data",
          "data": {
            "image/png": "[encoded data removed]",
            "text/plain": [
              "<Figure size 432x288 with 1 Axes>"
            ]
          },
          "metadata": {
            "needs_background": "light"
          }
        }
      ]
    },
    {
      "cell_type": "markdown",
      "metadata": {
        "id": "gSufGyyMFV0l"
      },
      "source": [
        "Question- 3"
      ]
    },
    {
      "cell_type": "code",
      "source": [
        "def classify_new_document_laplace10(test_document, pos_train, vocab, neg_train, pos_word_counts, pos_sum, neg_word_counts, neg_sum, a):\n",
        "  \n",
        "  pos_probability = 0\n",
        "  neg_probability = 0\n",
        "\n",
        "  #probabilities of class labels\n",
        "  pos_label_prob = len(pos_train)/ (len(pos_train)+len(neg_train))\n",
        "  neg_label_prob = len(neg_train)/ (len(pos_train)+len(neg_train))\n",
        "  \n",
        "  #Probabilities product for each word in test document\n",
        "  for word in test_document:\n",
        "    if word in pos_word_counts.keys():\n",
        "      pos_probability = log((pos_word_counts[word] + 10)/(pos_sum + 10 * len(vocab))) + pos_probability\n",
        "    else:\n",
        "      pos_probability = log(10/ (pos_sum + 10 * len(vocab))) + pos_probability\n",
        "    if word in neg_word_counts.keys():\n",
        "      neg_probability = log((neg_word_counts[word] + 10)/(neg_sum + 10 * len(vocab))) + neg_probability\n",
        "    else:\n",
        "      neg_probability = log(10/ (neg_sum + 10 * len(vocab))) + neg_probability\n",
        "\n",
        "  pos_test_probability = pos_probability + pos_label_prob\n",
        "  neg_test_probability = neg_probability + neg_label_prob\n",
        "  if pos_test_probability > neg_test_probability:\n",
        "    return 1\n",
        "  else:\n",
        "    return 0\n"
      ],
      "metadata": {
        "id": "AwCf5iHDIKMT"
      },
      "execution_count": 31,
      "outputs": []
    },
    {
      "cell_type": "code",
      "source": [
        "def evaluation_metrics_laplace10(x, y):\n",
        "  #loading training data and test data\n",
        "  (pos_train, neg_train, vocab) = load_training_set(x, y)  \n",
        "  (pos_test, neg_test) = load_test_set(x, y)\n",
        "  \n",
        "  #initializing factors for accuracy, pecision, and recall\n",
        "  pos_accuracy_counter = 0\n",
        "  neg_accuracy_counter = 0 \n",
        "\n",
        "  #initializing confusion matrix \n",
        "  confusion_matrix = np.matrix([[0,0],[0,0]])\n",
        "\n",
        "  #counter table for class labels and sum of all counts\n",
        "  pos_word_counts, pos_sum = counter_table(pos_train)\n",
        "  neg_word_counts, neg_sum = counter_table(neg_train)\n",
        "\n",
        "  # Evaluation for positive test data\n",
        "  for test_document in pos_test:\n",
        "    test_value = classify_new_document_laplace10(test_document, pos_train, vocab, neg_train, pos_word_counts, pos_sum, neg_word_counts, neg_sum)\n",
        "    if test_value == 1:\n",
        "      pos_accuracy_counter +=1\n",
        "      confusion_matrix[0,0] += 1\n",
        "    else:\n",
        "      confusion_matrix[0,1] +=1\n",
        "\n",
        "  #Evaluation for negative test data\n",
        "  for test_document in neg_test:\n",
        "    test_value = classify_new_document_laplace10(test_document, pos_train, vocab, neg_train, pos_word_counts, pos_sum, neg_word_counts, neg_sum)\n",
        "    if test_value == 0:\n",
        "      neg_accuracy_counter +=1\n",
        "      confusion_matrix[1,1] +=1\n",
        "    else:\n",
        "      confusion_matrix[1,0] +=1\n",
        "\n",
        "  #calculating accuracy of the model\n",
        "  accuracy = (pos_accuracy_counter + neg_accuracy_counter)/(len(pos_test)+ len(neg_test))\n",
        "\n",
        "  #calculating precision of the model\n",
        "  precision = confusion_matrix[0,0]/ (confusion_matrix[0,0]+ confusion_matrix[1,0]) \n",
        "\n",
        "  #calculating recall of the model\n",
        "  recall = confusion_matrix[0,0]/ (confusion_matrix[0,0]+confusion_matrix[0,1])\n",
        "\n",
        "  return accuracy, confusion_matrix, precision, recall"
      ],
      "metadata": {
        "id": "r0buuYlNHtCz"
      },
      "execution_count": 32,
      "outputs": []
    },
    {
      "cell_type": "code",
      "execution_count": 33,
      "metadata": {
        "id": "0Pq0ltFTFXTw"
      },
      "outputs": [],
      "source": [
        "accuracy_log_100, confusion_matrix_log_100, precision_log_100, recall_log_100 = evaluation_metrics_laplace(1.0, 1.0)"
      ]
    },
    {
      "cell_type": "code",
      "execution_count": 34,
      "metadata": {
        "colab": {
          "base_uri": "https://localhost:8080/"
        },
        "id": "CSLGHh7kKJo2",
        "outputId": "2fca6995-a516-43a3-8adc-a3371bf1dbcf"
      },
      "outputs": [
        {
          "output_type": "execute_result",
          "data": {
            "text/plain": [
              "0.82348"
            ]
          },
          "metadata": {},
          "execution_count": 34
        }
      ],
      "source": [
        "accuracy_log_100"
      ]
    },
    {
      "cell_type": "code",
      "source": [
        "confusion_matrix_log_100"
      ],
      "metadata": {
        "colab": {
          "base_uri": "https://localhost:8080/"
        },
        "id": "weJhWhXNw0My",
        "outputId": "5d783f55-7f92-4595-d689-adb3e852933c"
      },
      "execution_count": 35,
      "outputs": [
        {
          "output_type": "execute_result",
          "data": {
            "text/plain": [
              "matrix([[ 9559,  2941],\n",
              "        [ 1472, 11028]])"
            ]
          },
          "metadata": {},
          "execution_count": 35
        }
      ]
    },
    {
      "cell_type": "code",
      "source": [
        "precision_log_100"
      ],
      "metadata": {
        "colab": {
          "base_uri": "https://localhost:8080/"
        },
        "id": "1UxUc_ezw2fd",
        "outputId": "05da3e24-94de-40b7-f376-afca0c2b30a0"
      },
      "execution_count": 36,
      "outputs": [
        {
          "output_type": "execute_result",
          "data": {
            "text/plain": [
              "0.8665578823316109"
            ]
          },
          "metadata": {},
          "execution_count": 36
        }
      ]
    },
    {
      "cell_type": "code",
      "source": [
        "recall_log_100"
      ],
      "metadata": {
        "colab": {
          "base_uri": "https://localhost:8080/"
        },
        "id": "2Yz_CJkNw5gb",
        "outputId": "dc77ab90-f2fe-45d8-af4a-76bc94dc9f64"
      },
      "execution_count": 37,
      "outputs": [
        {
          "output_type": "execute_result",
          "data": {
            "text/plain": [
              "0.76472"
            ]
          },
          "metadata": {},
          "execution_count": 37
        }
      ]
    },
    {
      "cell_type": "markdown",
      "source": [
        "Question - 4"
      ],
      "metadata": {
        "id": "iBIFjTDMVPqx"
      }
    },
    {
      "cell_type": "code",
      "source": [
        "def classify_new_document_laplace50(test_document, pos_train, vocab, neg_train, pos_word_counts, pos_sum, neg_word_counts, neg_sum):\n",
        "  \n",
        "  pos_probability = 0\n",
        "  neg_probability = 0\n",
        "\n",
        "  #probabilities of class labels\n",
        "  pos_label_prob = len(pos_train)/ (len(pos_train)+len(neg_train))\n",
        "  neg_label_prob = len(neg_train)/ (len(pos_train)+len(neg_train))\n",
        "  \n",
        "  #Probabilities product for each word in test document\n",
        "  for word in test_document:\n",
        "    if word in pos_word_counts.keys():\n",
        "      pos_probability = log((pos_word_counts[word] + 10)/(pos_sum + 10 * len(vocab))) + pos_probability\n",
        "    else:\n",
        "      pos_probability = log(10/ (pos_sum + 10 * len(vocab))) + pos_probability\n",
        "    if word in neg_word_counts.keys():\n",
        "      neg_probability = log((neg_word_counts[word] + 10)/(neg_sum + 10 * len(vocab))) + neg_probability\n",
        "    else:\n",
        "      neg_probability = log(10/ (neg_sum + 10 * len(vocab))) + neg_probability\n",
        "\n",
        "  pos_test_probability = pos_probability + pos_label_prob\n",
        "  neg_test_probability = neg_probability + neg_label_prob\n",
        "  if pos_test_probability > neg_test_probability:\n",
        "    return 1\n",
        "  else:\n",
        "    return 0\n"
      ],
      "metadata": {
        "id": "xBniCZWnVVLy"
      },
      "execution_count": 38,
      "outputs": []
    },
    {
      "cell_type": "code",
      "source": [
        "def evaluation_metrics_laplace50():\n",
        "  #loading training data and test data\n",
        "  (pos_train, neg_train, vocab) = load_training_set(0.5, 0.5)  \n",
        "  (pos_test, neg_test) = load_test_set(1.0, 1.0)\n",
        "  \n",
        "  #initializing factors for accuracy, pecision, and recall\n",
        "  pos_accuracy_counter = 0\n",
        "  neg_accuracy_counter = 0 \n",
        "\n",
        "  #initializing confusion matrix \n",
        "  confusion_matrix = np.matrix([[0,0],[0,0]])\n",
        "\n",
        "  #counter table for class labels and sum of all counts\n",
        "  pos_word_counts, pos_sum = counter_table(pos_train)\n",
        "  neg_word_counts, neg_sum = counter_table(neg_train)\n",
        "\n",
        "  # Evaluation for positive test data\n",
        "  for test_document in pos_test:\n",
        "    test_value = classify_new_document_laplace50(test_document, pos_train, vocab, neg_train, pos_word_counts, pos_sum, neg_word_counts, neg_sum)\n",
        "    if test_value == 1:\n",
        "      pos_accuracy_counter +=1\n",
        "      confusion_matrix[0,0] += 1\n",
        "    else:\n",
        "      confusion_matrix[0,1] +=1\n",
        "\n",
        "  #Evaluation for negative test data\n",
        "  for test_document in neg_test:\n",
        "    test_value = classify_new_document_laplace50(test_document, pos_train, vocab, neg_train, pos_word_counts, pos_sum, neg_word_counts, neg_sum)\n",
        "    if test_value == 0:\n",
        "      neg_accuracy_counter +=1\n",
        "      confusion_matrix[1,1] +=1\n",
        "    else:\n",
        "      confusion_matrix[1,0] +=1\n",
        "\n",
        "  #calculating accuracy of the model\n",
        "  accuracy = (pos_accuracy_counter + neg_accuracy_counter)/(len(pos_test)+ len(neg_test))\n",
        "\n",
        "  #calculating precision of the model\n",
        "  precision = confusion_matrix[0,0]/ (confusion_matrix[0,0]+ confusion_matrix[1,0]) \n",
        "\n",
        "  #calculating recall of the model\n",
        "  recall = confusion_matrix[0,0]/ (confusion_matrix[0,0]+confusion_matrix[0,1])\n",
        "\n",
        "  return accuracy, confusion_matrix, precision, recall"
      ],
      "metadata": {
        "id": "fZsOM3B9VcAV"
      },
      "execution_count": 56,
      "outputs": []
    },
    {
      "cell_type": "code",
      "execution_count": 57,
      "metadata": {
        "id": "KENMlJDMGic8"
      },
      "outputs": [],
      "source": [
        "accuracy_lap_50, confusion_matrix_lap_50, precision_lap_50, recall_lap_50 = evaluation_metrics_laplace50()"
      ]
    },
    {
      "cell_type": "code",
      "source": [
        "accuracy_lap_25, confusion_matrix_lap_25, precision_lap_25, recall_lap_25 = evaluation_metrics_laplace50()"
      ],
      "metadata": {
        "id": "Y2RhOPu4bday"
      },
      "execution_count": 54,
      "outputs": []
    },
    {
      "cell_type": "code",
      "source": [
        "accuracy_lap_25"
      ],
      "metadata": {
        "colab": {
          "base_uri": "https://localhost:8080/"
        },
        "id": "BCSPDXWPb-Fb",
        "outputId": "5fe91c3d-ae3d-4c26-eb28-0ee971004a18"
      },
      "execution_count": 55,
      "outputs": [
        {
          "output_type": "execute_result",
          "data": {
            "text/plain": [
              "0.8094"
            ]
          },
          "metadata": {},
          "execution_count": 55
        }
      ]
    },
    {
      "cell_type": "code",
      "source": [
        "accuracy_lap_50"
      ],
      "metadata": {
        "colab": {
          "base_uri": "https://localhost:8080/"
        },
        "id": "kuRPStFehISr",
        "outputId": "5b460365-5fe6-4193-b988-a7be0b7a1841"
      },
      "execution_count": 41,
      "outputs": [
        {
          "output_type": "execute_result",
          "data": {
            "text/plain": [
              "0.83428"
            ]
          },
          "metadata": {},
          "execution_count": 41
        }
      ]
    },
    {
      "cell_type": "code",
      "source": [
        "confusion_matrix_lap_50"
      ],
      "metadata": {
        "colab": {
          "base_uri": "https://localhost:8080/"
        },
        "id": "hfucAIqQhKbv",
        "outputId": "af8bf5d1-5203-4ada-9972-9a2200771369"
      },
      "execution_count": 42,
      "outputs": [
        {
          "output_type": "execute_result",
          "data": {
            "text/plain": [
              "matrix([[ 9783,  2717],\n",
              "        [ 1426, 11074]])"
            ]
          },
          "metadata": {},
          "execution_count": 42
        }
      ]
    },
    {
      "cell_type": "code",
      "source": [
        "precision_lap_50"
      ],
      "metadata": {
        "colab": {
          "base_uri": "https://localhost:8080/"
        },
        "id": "ep73IGXkhN_p",
        "outputId": "c399895f-ce55-49f0-8bdf-11fbecea3243"
      },
      "execution_count": 43,
      "outputs": [
        {
          "output_type": "execute_result",
          "data": {
            "text/plain": [
              "0.8727808011419396"
            ]
          },
          "metadata": {},
          "execution_count": 43
        }
      ]
    },
    {
      "cell_type": "code",
      "source": [
        "recall_lap_50"
      ],
      "metadata": {
        "colab": {
          "base_uri": "https://localhost:8080/"
        },
        "id": "LVcPp7-lhQks",
        "outputId": "23a705e6-08b2-4232-99df-01479dbe56ce"
      },
      "execution_count": 44,
      "outputs": [
        {
          "output_type": "execute_result",
          "data": {
            "text/plain": [
              "0.78264"
            ]
          },
          "metadata": {},
          "execution_count": 44
        }
      ]
    },
    {
      "cell_type": "markdown",
      "source": [
        "Question-6\n"
      ],
      "metadata": {
        "id": "1YQzhM3UhVpQ"
      }
    },
    {
      "cell_type": "code",
      "source": [
        "def classify_new_document_laplace_imbalance(test_document, pos_train, vocab, neg_train, pos_word_counts, pos_sum, neg_word_counts, neg_sum):\n",
        "  \n",
        "  pos_probability = 0\n",
        "  neg_probability = 0\n",
        "\n",
        "  #probabilities of class labels\n",
        "  pos_label_prob = len(pos_train)/ (len(pos_train)+len(neg_train))\n",
        "  neg_label_prob = len(neg_train)/ (len(pos_train)+len(neg_train))\n",
        "  \n",
        "  #Probabilities product for each word in test document\n",
        "  for word in test_document:\n",
        "    if word in pos_word_counts.keys():\n",
        "      pos_probability = log((pos_word_counts[word] + 10)/(pos_sum + 10 * len(vocab))) + pos_probability\n",
        "    else:\n",
        "      pos_probability = log(10/ (pos_sum + 10 * len(vocab))) + pos_probability\n",
        "    if word in neg_word_counts.keys():\n",
        "      neg_probability = log((neg_word_counts[word] + 10)/(neg_sum + 10 * len(vocab))) + neg_probability\n",
        "    else:\n",
        "      neg_probability = log(10/ (neg_sum + 10 * len(vocab))) + neg_probability\n",
        "\n",
        "  pos_test_probability = pos_probability + pos_label_prob\n",
        "  neg_test_probability = neg_probability + neg_label_prob\n",
        "  if pos_test_probability > neg_test_probability:\n",
        "    return 1\n",
        "  else:\n",
        "    return 0\n"
      ],
      "metadata": {
        "id": "ITKcps1zhVM3"
      },
      "execution_count": 45,
      "outputs": []
    },
    {
      "cell_type": "code",
      "source": [
        "def evaluation_metrics_laplace_imbalance():\n",
        "  #loading training data and test data\n",
        "  (pos_train, neg_train, vocab) = load_training_set(0.1, 0.5)  \n",
        "  (pos_test, neg_test) = load_test_set(1, 1)\n",
        "  \n",
        "  #initializing factors for accuracy, pecision, and recall\n",
        "  pos_accuracy_counter = 0\n",
        "  neg_accuracy_counter = 0 \n",
        "\n",
        "  #initializing confusion matrix \n",
        "  confusion_matrix = np.matrix([[0,0],[0,0]])\n",
        "\n",
        "  #counter table for class labels and sum of all counts\n",
        "  pos_word_counts, pos_sum = counter_table(pos_train)\n",
        "  neg_word_counts, neg_sum = counter_table(neg_train)\n",
        "\n",
        "  # Evaluation for positive test data\n",
        "  for test_document in pos_test:\n",
        "    test_value = classify_new_document_laplace_imbalance(test_document, pos_train, vocab, neg_train, pos_word_counts, pos_sum, neg_word_counts, neg_sum)\n",
        "    if test_value == 1:\n",
        "      pos_accuracy_counter +=1\n",
        "      confusion_matrix[0,0] += 1\n",
        "    else:\n",
        "      confusion_matrix[0,1] +=1\n",
        "\n",
        "  #Evaluation for negative test data\n",
        "  for test_document in neg_test:\n",
        "    test_value = classify_new_document_laplace_imbalance(test_document, pos_train, vocab, neg_train, pos_word_counts, pos_sum, neg_word_counts, neg_sum)\n",
        "    if test_value == 0:\n",
        "      neg_accuracy_counter +=1\n",
        "      confusion_matrix[1,1] +=1\n",
        "    else:\n",
        "      confusion_matrix[1,0] +=1\n",
        "\n",
        "  #calculating accuracy of the model\n",
        "  accuracy = (pos_accuracy_counter + neg_accuracy_counter)/(len(pos_test)+ len(neg_test))\n",
        "\n",
        "  #calculating precision of the model\n",
        "  precision = confusion_matrix[0,0]/ (confusion_matrix[0,0]+ confusion_matrix[1,0]) \n",
        "\n",
        "  #calculating recall of the model\n",
        "  recall = confusion_matrix[0,0]/ (confusion_matrix[0,0]+confusion_matrix[0,1])\n",
        "\n",
        "  return accuracy, confusion_matrix, precision, recall"
      ],
      "metadata": {
        "id": "HnHZvpoAhf_b"
      },
      "execution_count": 46,
      "outputs": []
    },
    {
      "cell_type": "code",
      "source": [
        "accuracy_lap_imbalance, confusion_matrix_lap_imbalance, precision_lap_imbalance, recall_lap_imbalance = evaluation_metrics_laplace_imbalance()"
      ],
      "metadata": {
        "id": "VMfmZSpBh25b"
      },
      "execution_count": 47,
      "outputs": []
    },
    {
      "cell_type": "code",
      "source": [
        "accuracy_lap_imbalance"
      ],
      "metadata": {
        "colab": {
          "base_uri": "https://localhost:8080/"
        },
        "id": "g_MKz5l5qduL",
        "outputId": "97661259-d4c4-45b2-cf13-9e3a27486cf7"
      },
      "execution_count": 48,
      "outputs": [
        {
          "output_type": "execute_result",
          "data": {
            "text/plain": [
              "0.5002"
            ]
          },
          "metadata": {},
          "execution_count": 48
        }
      ]
    },
    {
      "cell_type": "code",
      "source": [
        "confusion_matrix_lap_imbalance"
      ],
      "metadata": {
        "colab": {
          "base_uri": "https://localhost:8080/"
        },
        "id": "nfm4IxMTrLhD",
        "outputId": "1bc73991-50eb-4cb3-bc0a-ae0f184ec7a1"
      },
      "execution_count": 49,
      "outputs": [
        {
          "output_type": "execute_result",
          "data": {
            "text/plain": [
              "matrix([[    6, 12494],\n",
              "        [    1, 12499]])"
            ]
          },
          "metadata": {},
          "execution_count": 49
        }
      ]
    },
    {
      "cell_type": "code",
      "source": [
        "precision_lap_imbalance"
      ],
      "metadata": {
        "colab": {
          "base_uri": "https://localhost:8080/"
        },
        "id": "USKqv-hfwr_m",
        "outputId": "08f331b7-22a8-4b70-b39f-075eee1c804f"
      },
      "execution_count": 50,
      "outputs": [
        {
          "output_type": "execute_result",
          "data": {
            "text/plain": [
              "0.8571428571428571"
            ]
          },
          "metadata": {},
          "execution_count": 50
        }
      ]
    },
    {
      "cell_type": "code",
      "source": [
        "recall_lap_imbalance"
      ],
      "metadata": {
        "colab": {
          "base_uri": "https://localhost:8080/"
        },
        "id": "Aj9lad4BwuBf",
        "outputId": "dd5464bf-ecd0-445d-c0c6-a5b276bb0b03"
      },
      "execution_count": 51,
      "outputs": [
        {
          "output_type": "execute_result",
          "data": {
            "text/plain": [
              "0.00048"
            ]
          },
          "metadata": {},
          "execution_count": 51
        }
      ]
    }
  ],
  "metadata": {
    "colab": {
      "collapsed_sections": [],
      "name": "ML_HW1.ipynb",
      "provenance": [],
      "mount_file_id": "1HpgSb7vDK6Mb10y7wQguwWqO6BhDTqor",
      "authorship_tag": "ABX9TyO4mjMDyCk66i8eNwOHybp0",
      "include_colab_link": true
    },
    "kernelspec": {
      "display_name": "Python 3",
      "name": "python3"
    },
    "language_info": {
      "name": "python"
    }
  },
  "nbformat": 4,
  "nbformat_minor": 0
}