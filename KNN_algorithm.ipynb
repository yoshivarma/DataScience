{
  "nbformat": 4,
  "nbformat_minor": 0,
  "metadata": {
    "colab": {
      "name": "589_task1_assignment.ipynb",
      "provenance": [],
      "collapsed_sections": [],
      "authorship_tag": "ABX9TyPqi8FiqJ40k2WuqZt3PuMO",
      "include_colab_link": true
    },
    "kernelspec": {
      "name": "python3",
      "display_name": "Python 3"
    },
    "language_info": {
      "name": "python"
    }
  },
  "cells": [
    {
      "cell_type": "markdown",
      "metadata": {
        "id": "view-in-github",
        "colab_type": "text"
      },
      "source": [
        "<a href=\"https://colab.research.google.com/github/yoshivarma/DataScience/blob/main/KNN_algorithm.ipynb\" target=\"_parent\"><img src=\"https://colab.research.google.com/assets/colab-badge.svg\" alt=\"Open In Colab\"/></a>"
      ]
    },
    {
      "cell_type": "code",
      "execution_count": null,
      "metadata": {
        "id": "ETDsDbHsRvUG"
      },
      "outputs": [],
      "source": [
        "import pandas as pd\n",
        "from sklearn.utils import shuffle\n",
        "from sklearn.model_selection import train_test_split\n",
        "from scipy.spatial import distance\n",
        "from numpy.linalg import norm\n",
        "from scipy.stats import mode\n",
        "from sklearn.metrics import accuracy_score\n",
        "import statistics\n",
        "from statistics import stdev\n",
        "import numpy as np\n",
        "import matplotlib.pyplot as plt "
      ]
    },
    {
      "cell_type": "code",
      "source": [
        "#importing data\n",
        "from google.colab import files\n",
        "upload = files.upload()\n"
      ],
      "metadata": {
        "colab": {
          "resources": {
            "http://localhost:8080/nbextensions/google.colab/files.js": {
              "data": "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",
              "ok": true,
              "headers": [
                [
                  "content-type",
                  "application/javascript"
                ]
              ],
              "status": 200,
              "status_text": ""
            }
          },
          "base_uri": "https://localhost:8080/",
          "height": 73
        },
        "id": "2hnl97cKR2go",
        "outputId": "66e2f9be-8805-484d-a186-4e3f9a895f50"
      },
      "execution_count": null,
      "outputs": [
        {
          "output_type": "display_data",
          "data": {
            "text/html": [
              "\n",
              "     <input type=\"file\" id=\"files-f28d7e7c-cf7e-4166-bd7c-087c2a7c43d6\" name=\"files[]\" multiple disabled\n",
              "        style=\"border:none\" />\n",
              "     <output id=\"result-f28d7e7c-cf7e-4166-bd7c-087c2a7c43d6\">\n",
              "      Upload widget is only available when the cell has been executed in the\n",
              "      current browser session. Please rerun this cell to enable.\n",
              "      </output>\n",
              "      <script src=\"/nbextensions/google.colab/files.js\"></script> "
            ],
            "text/plain": [
              "<IPython.core.display.HTML object>"
            ]
          },
          "metadata": {}
        },
        {
          "output_type": "stream",
          "name": "stdout",
          "text": [
            "Saving iris.csv to iris.csv\n"
          ]
        }
      ]
    },
    {
      "cell_type": "code",
      "source": [
        "#reading dataset\n",
        "dataset = pd.read_csv('iris.csv', header = None)\n",
        "dataset.head()"
      ],
      "metadata": {
        "colab": {
          "base_uri": "https://localhost:8080/",
          "height": 206
        },
        "id": "PdbtpHRHR8dx",
        "outputId": "c0e857de-32c0-4df3-ea9a-3f249baf367b"
      },
      "execution_count": null,
      "outputs": [
        {
          "output_type": "execute_result",
          "data": {
            "text/html": [
              "\n",
              "  <div id=\"df-950e8b7c-ff44-48c0-9e32-33861f7c2e36\">\n",
              "    <div class=\"colab-df-container\">\n",
              "      <div>\n",
              "<style scoped>\n",
              "    .dataframe tbody tr th:only-of-type {\n",
              "        vertical-align: middle;\n",
              "    }\n",
              "\n",
              "    .dataframe tbody tr th {\n",
              "        vertical-align: top;\n",
              "    }\n",
              "\n",
              "    .dataframe thead th {\n",
              "        text-align: right;\n",
              "    }\n",
              "</style>\n",
              "<table border=\"1\" class=\"dataframe\">\n",
              "  <thead>\n",
              "    <tr style=\"text-align: right;\">\n",
              "      <th></th>\n",
              "      <th>0</th>\n",
              "      <th>1</th>\n",
              "      <th>2</th>\n",
              "      <th>3</th>\n",
              "      <th>4</th>\n",
              "    </tr>\n",
              "  </thead>\n",
              "  <tbody>\n",
              "    <tr>\n",
              "      <th>0</th>\n",
              "      <td>5.1</td>\n",
              "      <td>3.5</td>\n",
              "      <td>1.4</td>\n",
              "      <td>0.2</td>\n",
              "      <td>Iris-setosa</td>\n",
              "    </tr>\n",
              "    <tr>\n",
              "      <th>1</th>\n",
              "      <td>4.9</td>\n",
              "      <td>3.0</td>\n",
              "      <td>1.4</td>\n",
              "      <td>0.2</td>\n",
              "      <td>Iris-setosa</td>\n",
              "    </tr>\n",
              "    <tr>\n",
              "      <th>2</th>\n",
              "      <td>4.7</td>\n",
              "      <td>3.2</td>\n",
              "      <td>1.3</td>\n",
              "      <td>0.2</td>\n",
              "      <td>Iris-setosa</td>\n",
              "    </tr>\n",
              "    <tr>\n",
              "      <th>3</th>\n",
              "      <td>4.6</td>\n",
              "      <td>3.1</td>\n",
              "      <td>1.5</td>\n",
              "      <td>0.2</td>\n",
              "      <td>Iris-setosa</td>\n",
              "    </tr>\n",
              "    <tr>\n",
              "      <th>4</th>\n",
              "      <td>5.0</td>\n",
              "      <td>3.6</td>\n",
              "      <td>1.4</td>\n",
              "      <td>0.2</td>\n",
              "      <td>Iris-setosa</td>\n",
              "    </tr>\n",
              "  </tbody>\n",
              "</table>\n",
              "</div>\n",
              "      <button class=\"colab-df-convert\" onclick=\"convertToInteractive('df-950e8b7c-ff44-48c0-9e32-33861f7c2e36')\"\n",
              "              title=\"Convert this dataframe to an interactive table.\"\n",
              "              style=\"display:none;\">\n",
              "        \n",
              "  <svg xmlns=\"http://www.w3.org/2000/svg\" height=\"24px\"viewBox=\"0 0 24 24\"\n",
              "       width=\"24px\">\n",
              "    <path d=\"M0 0h24v24H0V0z\" fill=\"none\"/>\n",
              "    <path d=\"M18.56 5.44l.94 2.06.94-2.06 2.06-.94-2.06-.94-.94-2.06-.94 2.06-2.06.94zm-11 1L8.5 8.5l.94-2.06 2.06-.94-2.06-.94L8.5 2.5l-.94 2.06-2.06.94zm10 10l.94 2.06.94-2.06 2.06-.94-2.06-.94-.94-2.06-.94 2.06-2.06.94z\"/><path d=\"M17.41 7.96l-1.37-1.37c-.4-.4-.92-.59-1.43-.59-.52 0-1.04.2-1.43.59L10.3 9.45l-7.72 7.72c-.78.78-.78 2.05 0 2.83L4 21.41c.39.39.9.59 1.41.59.51 0 1.02-.2 1.41-.59l7.78-7.78 2.81-2.81c.8-.78.8-2.07 0-2.86zM5.41 20L4 18.59l7.72-7.72 1.47 1.35L5.41 20z\"/>\n",
              "  </svg>\n",
              "      </button>\n",
              "      \n",
              "  <style>\n",
              "    .colab-df-container {\n",
              "      display:flex;\n",
              "      flex-wrap:wrap;\n",
              "      gap: 12px;\n",
              "    }\n",
              "\n",
              "    .colab-df-convert {\n",
              "      background-color: #E8F0FE;\n",
              "      border: none;\n",
              "      border-radius: 50%;\n",
              "      cursor: pointer;\n",
              "      display: none;\n",
              "      fill: #1967D2;\n",
              "      height: 32px;\n",
              "      padding: 0 0 0 0;\n",
              "      width: 32px;\n",
              "    }\n",
              "\n",
              "    .colab-df-convert:hover {\n",
              "      background-color: #E2EBFA;\n",
              "      box-shadow: 0px 1px 2px rgba(60, 64, 67, 0.3), 0px 1px 3px 1px rgba(60, 64, 67, 0.15);\n",
              "      fill: #174EA6;\n",
              "    }\n",
              "\n",
              "    [theme=dark] .colab-df-convert {\n",
              "      background-color: #3B4455;\n",
              "      fill: #D2E3FC;\n",
              "    }\n",
              "\n",
              "    [theme=dark] .colab-df-convert:hover {\n",
              "      background-color: #434B5C;\n",
              "      box-shadow: 0px 1px 3px 1px rgba(0, 0, 0, 0.15);\n",
              "      filter: drop-shadow(0px 1px 2px rgba(0, 0, 0, 0.3));\n",
              "      fill: #FFFFFF;\n",
              "    }\n",
              "  </style>\n",
              "\n",
              "      <script>\n",
              "        const buttonEl =\n",
              "          document.querySelector('#df-950e8b7c-ff44-48c0-9e32-33861f7c2e36 button.colab-df-convert');\n",
              "        buttonEl.style.display =\n",
              "          google.colab.kernel.accessAllowed ? 'block' : 'none';\n",
              "\n",
              "        async function convertToInteractive(key) {\n",
              "          const element = document.querySelector('#df-950e8b7c-ff44-48c0-9e32-33861f7c2e36');\n",
              "          const dataTable =\n",
              "            await google.colab.kernel.invokeFunction('convertToInteractive',\n",
              "                                                     [key], {});\n",
              "          if (!dataTable) return;\n",
              "\n",
              "          const docLinkHtml = 'Like what you see? Visit the ' +\n",
              "            '<a target=\"_blank\" href=https://colab.research.google.com/notebooks/data_table.ipynb>data table notebook</a>'\n",
              "            + ' to learn more about interactive tables.';\n",
              "          element.innerHTML = '';\n",
              "          dataTable['output_type'] = 'display_data';\n",
              "          await google.colab.output.renderOutput(dataTable, element);\n",
              "          const docLink = document.createElement('div');\n",
              "          docLink.innerHTML = docLinkHtml;\n",
              "          element.appendChild(docLink);\n",
              "        }\n",
              "      </script>\n",
              "    </div>\n",
              "  </div>\n",
              "  "
            ],
            "text/plain": [
              "     0    1    2    3            4\n",
              "0  5.1  3.5  1.4  0.2  Iris-setosa\n",
              "1  4.9  3.0  1.4  0.2  Iris-setosa\n",
              "2  4.7  3.2  1.3  0.2  Iris-setosa\n",
              "3  4.6  3.1  1.5  0.2  Iris-setosa\n",
              "4  5.0  3.6  1.4  0.2  Iris-setosa"
            ]
          },
          "metadata": {},
          "execution_count": 4
        }
      ]
    },
    {
      "cell_type": "code",
      "execution_count": null,
      "metadata": {
        "id": "2cPb7VxteUZ7"
      },
      "outputs": [],
      "source": [
        "# shuffling, splitting data, normalizing\n",
        "def Split_data(dataset):\n",
        "  dataset = shuffle(dataset)\n",
        "  X = dataset[dataset.columns[0:4]]\n",
        "  y = dataset[dataset.columns[4]]\n",
        "  X_train, X_test, y_train, y_test = train_test_split(X, y, test_size=0.20)\n",
        "  X_train_nonrmalized = (X_train-X_train.min())/(X_train.max()-X_train.min())\n",
        "  X_test_normalized = (X_test-X_train.min())/(X_train.max()-X_train.min())\n",
        "  return X_train_nonrmalized, X_test_normalized, y_train, y_test"
      ]
    },
    {
      "cell_type": "code",
      "source": [
        "#euclidean dist\n",
        "def squared_dist(x,y):\n",
        "  d = 0.0\n",
        "  d = np.sum(np.square(x-y))\n",
        "  return np.sqrt(d)"
      ],
      "metadata": {
        "id": "7penHH9WSRsQ"
      },
      "execution_count": null,
      "outputs": []
    },
    {
      "cell_type": "code",
      "source": [
        "#k-NN algorithm\n",
        "def k_NN(trainx, trainy, testx, k):\n",
        "    \n",
        "  \n",
        "  inter = list()\n",
        "  k_neighbours = list()\n",
        "  for T in range(len(testx)):\n",
        "    nearest_neighbour = list()\n",
        "    for P in range(len(trainx)):\n",
        "      x = squared_dist(testx.iloc[T],trainx.iloc[P])\n",
        "      nearest_neighbour.append((trainy.iloc[P], x))\n",
        "      \n",
        "    nearest_neighbour.sort(key=lambda tup: tup[1])\n",
        "\n",
        "    z1 = nearest_neighbour[:k]\n",
        "    z2 = [list(x) for x in z1]\n",
        "    for row in z2:\n",
        "      del row[1]\n",
        "    z3 = mode(z2)\n",
        "    z3 = z3.mode[0]\n",
        "\n",
        "    k_neighbours.append(z3)\n",
        "\n",
        "  return k_neighbours"
      ],
      "metadata": {
        "id": "jPpI5T1eSW8m"
      },
      "execution_count": null,
      "outputs": []
    },
    {
      "cell_type": "code",
      "source": [
        "#prediting values\n",
        "def predictions(predict, y_test):\n",
        "  count = 0\n",
        "  array = y_test.to_numpy()\n",
        "  for i in range(len(predict)):\n",
        "    if (predict[i] == array[i]):\n",
        "      count = count+1\n",
        "\n",
        "  score = (count / (len(predict)))\n",
        "  return score"
      ],
      "metadata": {
        "id": "1vAmCrGPScJl"
      },
      "execution_count": null,
      "outputs": []
    },
    {
      "cell_type": "code",
      "source": [
        "# testing for training data\n",
        "\n",
        "def testing_training_k(data):\n",
        "\n",
        "  prediction_train = list()\n",
        "  sd_train = list()\n",
        "  standard_train = list()\n",
        "\n",
        "  #test for k= 1,51 for odd values\n",
        "  for j in range(1,51,2):\n",
        "    score = 0.0\n",
        "    avg_score = 0.0\n",
        "    num = 20\n",
        "    \n",
        "    #testing for 20 times\n",
        "    for i1 in range(num):\n",
        "      X_train_normalized, X_test_normalized, y_train, y_test = Split_data(data)\n",
        "      count = 0.0\n",
        "      x = k_NN(X_train_normalized, y_train, X_train_normalized, j)\n",
        "\n",
        "      array = y_train.to_numpy()\n",
        "      for i in range(len(x)):\n",
        "        if (x[i] == array[i]):\n",
        "          count = count+1\n",
        "\n",
        "      score = (count / (len(x)))\n",
        "      avg_score = avg_score + score\n",
        "      #appending each score to find standard deviation at the end\n",
        "      sd_train.append(score)\n",
        "  \n",
        "  #average for 20 iterations, standard deviation\n",
        "    avg_score_20 = avg_score/num\n",
        "    standard_train.append(statistics.stdev(sd_train))\n",
        "    prediction_train.append(avg_score_20)\n",
        "  \n",
        "  return prediction_train, standard_train"
      ],
      "metadata": {
        "id": "J9QaTQ0yUVpN"
      },
      "execution_count": null,
      "outputs": []
    },
    {
      "cell_type": "code",
      "source": [
        "# testing for testing data\n",
        "\n",
        "def testing_testing_k(data):\n",
        "\n",
        "  prediction_test = list()\n",
        "  sd_test = list()\n",
        "  standard_test = list()\n",
        "\n",
        "  #test for k= 1,51 for odd values\n",
        "  for j in range(1,51,2):\n",
        "    score = 0.0\n",
        "    avg_score = 0.0\n",
        "    num = 20\n",
        "    \n",
        "    #testing for 20times\n",
        "    for i1 in range(num):\n",
        "      X_train_normalized, X_test_normalized, y_train, y_test = Split_data(data)\n",
        "      count = 0.0\n",
        "      x = k_NN(X_train_normalized, y_train, X_test_normalized, j)\n",
        "\n",
        "      array = y_test.to_numpy()\n",
        "      for i in range(len(array)):\n",
        "        if (x[i] == array[i]):\n",
        "          count = count+1\n",
        "\n",
        "      score = (count / (len(array)))\n",
        "      avg_score = avg_score + score\n",
        "      #appending each score to find standard deviation at the end\n",
        "      sd_test.append(score)\n",
        "  \n",
        "  #average for 20 iterations, standard deviation\n",
        "    avg_score_20 = avg_score/num\n",
        "    standard_test.append(statistics.stdev(sd_test))\n",
        "    prediction_test.append(avg_score_20)\n",
        "  \n",
        "  return prediction_test, standard_test"
      ],
      "metadata": {
        "id": "fzfc7dT3X9ax"
      },
      "execution_count": null,
      "outputs": []
    },
    {
      "cell_type": "code",
      "source": [
        "prediction_train, standard_train = testing_training_k(dataset)"
      ],
      "metadata": {
        "id": "Jyti5RlOYxTv"
      },
      "execution_count": null,
      "outputs": []
    },
    {
      "cell_type": "code",
      "source": [
        "prediction_test, standard_test = testing_testing_k(dataset)"
      ],
      "metadata": {
        "id": "q3zZOPZAYmhc"
      },
      "execution_count": null,
      "outputs": []
    },
    {
      "cell_type": "code",
      "source": [
        "#checking accuracy for k= 120\n",
        "X_train_normalized, X_test_normalized, y_train, y_test = Split_data(dataset)\n",
        "count = 0.0\n",
        "x = k_NN(X_train_normalized, y_train, X_test_normalized, 120)\n",
        "\n",
        "array = y_test.to_numpy()\n",
        "for i in range(len(array)):\n",
        "  if (x[i] == array[i]):\n",
        "    count = count+1\n",
        "\n",
        "score = (count / (len(array)))\n",
        "score"
      ],
      "metadata": {
        "colab": {
          "base_uri": "https://localhost:8080/"
        },
        "id": "HKApC1Nw0Efh",
        "outputId": "50c127de-b913-4046-c380-260f29912225"
      },
      "execution_count": null,
      "outputs": [
        {
          "output_type": "execute_result",
          "data": {
            "text/plain": [
              "0.26666666666666666"
            ]
          },
          "metadata": {},
          "execution_count": 13
        }
      ]
    },
    {
      "cell_type": "code",
      "source": [
        "#checking accuracy for k =151\n",
        "X_train_normalized, X_test_normalized, y_train, y_test = Split_data(dataset)\n",
        "count = 0.0\n",
        "x = k_NN(X_train_normalized, y_train, X_test_normalized, 151)\n",
        "\n",
        "array = y_test.to_numpy()\n",
        "for i in range(len(array)):\n",
        "  if (x[i] == array[i]):\n",
        "    count = count+1\n",
        "\n",
        "score = (count / (len(array)))\n",
        "score"
      ],
      "metadata": {
        "colab": {
          "base_uri": "https://localhost:8080/"
        },
        "id": "7eWnzRnh0wH_",
        "outputId": "2a7850d0-8556-4e01-b166-57dfd1f43271"
      },
      "execution_count": null,
      "outputs": [
        {
          "output_type": "execute_result",
          "data": {
            "text/plain": [
              "0.26666666666666666"
            ]
          },
          "metadata": {},
          "execution_count": 14
        }
      ]
    },
    {
      "cell_type": "code",
      "source": [
        "#checking accuracy for k= 131\n",
        "X_train_normalized, X_test_normalized, y_train, y_test = Split_data(dataset)\n",
        "count = 0.0\n",
        "x = k_NN(X_train_normalized, y_train, X_test_normalized, 131)\n",
        "\n",
        "array = y_test.to_numpy()\n",
        "for i in range(len(array)):\n",
        "  if (x[i] == array[i]):\n",
        "    count = count+1\n",
        "\n",
        "score = (count / (len(array)))\n",
        "score"
      ],
      "metadata": {
        "colab": {
          "base_uri": "https://localhost:8080/"
        },
        "id": "oe-qRk8C02mu",
        "outputId": "0433c694-1f76-4435-b4fd-6a61740b1eed"
      },
      "execution_count": null,
      "outputs": [
        {
          "output_type": "execute_result",
          "data": {
            "text/plain": [
              "0.26666666666666666"
            ]
          },
          "metadata": {},
          "execution_count": 15
        }
      ]
    },
    {
      "cell_type": "markdown",
      "source": [
        "**Q1.1 (12 Points) In the first graph, you should show the value of k on the horizontal axis,\n",
        "and on the vertical axis, the average accuracy of models trained over the training set, given\n",
        "that particular value of k. Also show, for each point in the graph, the corresponding standard\n",
        "deviation; you should do this by adding error bars to each point. The graph should look like the\n",
        "one in Figure 2 (though the “shape” of the curve you obtain may be different, of course).**"
      ],
      "metadata": {
        "id": "4njohrOhHbp-"
      }
    },
    {
      "cell_type": "code",
      "source": [
        "#Accuracy curve for tarining data\n",
        "\n",
        "#define x and y coordinates\n",
        "x = np.array(range(1,51,2))\n",
        "y = np.array(prediction_train)\n",
        "\n",
        "#create line chart with error bars\n",
        "fig, ax = plt.subplots()\n",
        "\n",
        "\n",
        "#plt.plot(x, y)\n",
        "fig.savefig('testing_data1.png')\n",
        "ax.errorbar(x, y,\n",
        "             yerr = standard_train,\n",
        "             capsize=0.001)"
      ],
      "metadata": {
        "colab": {
          "base_uri": "https://localhost:8080/",
          "height": 283
        },
        "id": "hDpqEFhI2vDy",
        "outputId": "9fd993ba-5e01-429b-d650-99eac4d8d003"
      },
      "execution_count": null,
      "outputs": [
        {
          "output_type": "execute_result",
          "data": {
            "text/plain": [
              "<ErrorbarContainer object of 3 artists>"
            ]
          },
          "metadata": {},
          "execution_count": 13
        },
        {
          "output_type": "display_data",
          "data": {
            "image/png": "[encoded data removed]",
            "text/plain": [
              "<Figure size 432x288 with 1 Axes>"
            ]
          },
          "metadata": {
            "needs_background": "light"
          }
        }
      ]
    },
    {
      "cell_type": "markdown",
      "source": [
        "**Q1.2 (12 Points) In the second graph, you should show the value of k on the horizontal axis,\n",
        "and on the vertical axis, the average accuracy of models trained over the testing set, given\n",
        "that particular value of k. Also show, for each point in the graph, the corresponding standard\n",
        "deviation by adding error bars to the point.**"
      ],
      "metadata": {
        "id": "ZSNLSnR5Hnna"
      }
    },
    {
      "cell_type": "code",
      "source": [
        "#Accuracy curve for testing data\n",
        "\n",
        "#define x and y coordinates\n",
        "x = np.array(range(1,51,2))\n",
        "y = np.array(prediction_test)\n",
        "\n",
        "#create line chart with error bars\n",
        "fig, ax = plt.subplots()\n",
        "\n",
        "\n",
        "#plt.plot(x, y)\n",
        "ax.errorbar(x, y,\n",
        "             yerr = standard_test,\n",
        "             capsize=0.001)"
      ],
      "metadata": {
        "colab": {
          "base_uri": "https://localhost:8080/",
          "height": 283
        },
        "id": "Q5jtD8wKHOnv",
        "outputId": "4da381d4-ba4d-4b39-b322-16bec1bd3f08"
      },
      "execution_count": null,
      "outputs": [
        {
          "output_type": "execute_result",
          "data": {
            "text/plain": [
              "<ErrorbarContainer object of 3 artists>"
            ]
          },
          "metadata": {},
          "execution_count": 28
        },
        {
          "output_type": "display_data",
          "data": {
            "image/png": "[encoded data removed]",
            "text/plain": [
              "<Figure size 432x288 with 1 Axes>"
            ]
          },
          "metadata": {
            "needs_background": "light"
          }
        }
      ]
    },
    {
      "cell_type": "markdown",
      "source": [
        "**Explain intuitively why each of these curves look the way they do. First,\n",
        "analyze the graph showing performance on the training set as a function of k. Why do you think\n",
        "the graph looks like that? Next, analyze the graph showing performance on the testing set as a\n",
        "function of k. Why do you think the graph looks like that?**"
      ],
      "metadata": {
        "id": "rhvFNUVDHqfs"
      }
    },
    {
      "cell_type": "markdown",
      "source": [
        "*Performance on training data*: Firstly, when k=1, the accuracy on training data is 100% this is expected because the algorithm was trained on this data. But when we keep on increasing k-values in this case from k=1, to k=51 (odd values) accuracy decreases. I see with the above algorithm the range of accuracies is between 88% to 100%. When I tested some extreme values of k such as 120,131,151,etc. I see accuracy gets constant close to 26% this is because no matter whatever the k-value is, its just returning the maximum number of target labels on the whole dataset. One observation point- with increasing k-values standard deviation increases. This is because the bigger the k-value, the less accurate predictions are.\n",
        "\n",
        "*Performance on testing data*:\n",
        "Now, when we predict target labels on testing data using this algorithm, I see accuracies initially increase with k values until k=13. There was 97% accuracy for testing data when k=13. By testing on various datasets, we can know with which 'k' value algorithm performs better. Though accuracies didn't fall much with increasing k, but with k=120,131,151,etc. a similar phenomenon was observed accuracy gets constant. Even with testing data accuracy decreases with increasing k. Standard deviation fluctuates between 2.3 to 4.3, which is quite high in comparison to training data where deviation ranged between 0 to 2.3."
      ],
      "metadata": {
        "id": "K0UUmMUoHzdd"
      }
    },
    {
      "cell_type": "markdown",
      "source": [
        "**Q1.4 (8 Points) We say that a model is underfitting when it performs poorly on the training\n",
        "data (and most likely on the testing data as well). We say that a model is overfitting when it\n",
        "performs well on training data but it does not generalize to new instances. Identify and report\n",
        "the ranges of values of k for which k-NN is underfitting, and ranges of values of k for which\n",
        "k-NN is overfitting.**"
      ],
      "metadata": {
        "id": "94saWShBN3gn"
      }
    },
    {
      "cell_type": "markdown",
      "source": [
        "*Underfitting*: When we increase k values model gets underfitted. For k = (87 and above) models are underfitting. Accuracies decrease highly from k = 53 and get lower as k increases to 87. For example, k= 51 accuracy= 88% but when we increase to k=53 accuracy decreases to 72.33%.\n",
        "\n",
        "*Overfitting*: When k=1 algorithm performs well for training data whereas for testing data this is not the case. So, for k=1 the model is overfitiing. Apart from them accuracies I didn't see any 'k' where accuracies based on training data are well but bad for testing data. Model performs moderately for both testing and training data for various k-values. Graphs for training and testing data follow a similar curve. Which can also resemble that k-NN is not overfitting for any k-values based on this dataset.\n",
        "\n"
      ],
      "metadata": {
        "id": "cLR-StQCODdD"
      }
    },
    {
      "cell_type": "markdown",
      "source": [
        "**Q1.5 (8 Points) Based on the analyses made in the previous question, which value of k you\n",
        "would select if you were trying to fine-tune this algorithm so that it worked as well as possible in\n",
        "real life? Justify your answer.**"
      ],
      "metadata": {
        "id": "C1vRTwe1WooJ"
      }
    },
    {
      "cell_type": "markdown",
      "source": [
        "After analyzing and visualizing all the accuracies for training data, the algorithm performs well for k = 3 to 19. Accuracies constantly increased between these ranges. Based on the graph for testing data accuracies model can fit best for k=7, to 11. However, this can varry with datasets as algorithm can perform differently with different datasets. There can be many factors which can contribute to better performance of an algorithm one of them could be size of the dataset. With the iris dataset algorithm performed well for all k values between 1 to 57. This could be majorly because of less number of attributes for each target label."
      ],
      "metadata": {
        "id": "ZXs1H9DeWvBs"
      }
    }
  ]
}