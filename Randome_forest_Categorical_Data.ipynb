{
  "cells": [
    {
      "cell_type": "markdown",
      "metadata": {
        "id": "view-in-github",
        "colab_type": "text"
      },
      "source": [
        "<a href=\"https://colab.research.google.com/github/yoshivarma/DataScience/blob/main/Randome_forest_Categorical_Data.ipynb\" target=\"_parent\"><img src=\"https://colab.research.google.com/assets/colab-badge.svg\" alt=\"Open In Colab\"/></a>"
      ]
    },
    {
      "cell_type": "code",
      "execution_count": 4,
      "metadata": {
        "id": "ScW49fbVb0oo"
      },
      "outputs": [],
      "source": [
        "#Importing all required libraries\n",
        "import pandas as pd\n",
        "from sklearn.utils import shuffle\n",
        "from sklearn.model_selection import train_test_split\n",
        "import numpy as np\n",
        "import math\n",
        "from scipy.stats.mstats import mode\n",
        "from matplotlib import pyplot as plt\n",
        "from sklearn.model_selection import KFold\n",
        "import math \n",
        "\n",
        "# Random Forest Algorithm \n",
        "from random import seed\n",
        "from random import randrange\n",
        "\n"
      ]
    },
    {
      "cell_type": "markdown",
      "metadata": {
        "id": "GVkEUcqrddz9"
      },
      "source": [
        "The 1984 United States Congressional Voting Dataset"
      ]
    },
    {
      "cell_type": "code",
      "execution_count": null,
      "metadata": {
        "colab": {
          "base_uri": "https://localhost:8080/",
          "height": 72,
          "resources": {
            "http://localhost:8080/nbextensions/google.colab/files.js": {
              "data": "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",
              "headers": [
                [
                  "content-type",
                  "application/javascript"
                ]
              ],
              "ok": true,
              "status": 200,
              "status_text": ""
            }
          }
        },
        "id": "7MJN6ZhXdc-d",
        "outputId": "cb7ffbe2-a25a-49e4-c3d1-35ea94420486"
      },
      "outputs": [
        {
          "output_type": "display_data",
          "data": {
            "text/plain": [
              "<IPython.core.display.HTML object>"
            ],
            "text/html": [
              "\n",
              "     <input type=\"file\" id=\"files-09385f94-d39f-41c8-a2f0-2bff7e044679\" name=\"files[]\" multiple disabled\n",
              "        style=\"border:none\" />\n",
              "     <output id=\"result-09385f94-d39f-41c8-a2f0-2bff7e044679\">\n",
              "      Upload widget is only available when the cell has been executed in the\n",
              "      current browser session. Please rerun this cell to enable.\n",
              "      </output>\n",
              "      <script src=\"/nbextensions/google.colab/files.js\"></script> "
            ]
          },
          "metadata": {}
        },
        {
          "output_type": "stream",
          "name": "stdout",
          "text": [
            "Saving hw3_house_votes_84.csv to hw3_house_votes_84.csv\n"
          ]
        }
      ],
      "source": [
        "#upload files\n",
        "from google.colab import files\n",
        "upload = files.upload()"
      ]
    },
    {
      "cell_type": "code",
      "execution_count": null,
      "metadata": {
        "id": "dmQ6p3DJdrfu"
      },
      "outputs": [],
      "source": [
        "#Load data\n",
        "data1 = pd.read_csv('hw3_house_votes_84.csv')"
      ]
    },
    {
      "cell_type": "code",
      "execution_count": null,
      "metadata": {
        "colab": {
          "base_uri": "https://localhost:8080/"
        },
        "id": "bnm8uF8ScIAk",
        "outputId": "5bc6be0e-ab6a-4134-8b49-d91f4044393d"
      },
      "outputs": [
        {
          "output_type": "execute_result",
          "data": {
            "text/plain": [
              "Index(['#handicapped-infants', 'water-project-cost-sharing',\n",
              "       'adoption-of-the-budget-resolution', 'physician-fee-freeze',\n",
              "       'el-salvador-adi', 'religious-groups-in-schools',\n",
              "       'anti-satellite-test-ban', 'aid-to-nicaraguan-contras', 'mx-missile',\n",
              "       'immigration', 'synfuels-corporation-cutback', 'education-spending',\n",
              "       'superfund-right-to-sue', 'crime', 'duty-free-exports',\n",
              "       'export-administration-act-south-africa', 'class'],\n",
              "      dtype='object')"
            ]
          },
          "metadata": {},
          "execution_count": 4
        }
      ],
      "source": [
        "columns = data1.columns\n",
        "columns"
      ]
    },
    {
      "cell_type": "code",
      "execution_count": null,
      "metadata": {
        "id": "I8uwLgP1fdtS"
      },
      "outputs": [],
      "source": [
        "#bootstrap dataset\n",
        "def bootstrap_data(dataset, n_folds):\n",
        "\n",
        "  #percentage of each class \n",
        "  d1= data1[data1['class']==0]\n",
        "  d2= data1[data1['class']==1]\n",
        "  n1= d1['class'].count()/(d1['class'].count()+d2['class'].count())\n",
        "  n2= d2['class'].count()/(d1['class'].count()+d2['class'].count())\n",
        "\n",
        "  dataset_split = list()\n",
        "  dataset_copy = dataset\n",
        "  fold_size = int(len(dataset) / n_folds)\n",
        "  \n",
        "  for i in range(n_folds):\n",
        "    fold = list()\n",
        "    while len(fold) < int(n1*fold_size):\n",
        "      temp1 = dataset_copy[dataset_copy['class']==0].sample()\n",
        "      fold.append(temp1)\n",
        "      dataset_copy = dataset_copy.drop(temp1.index)\n",
        "\n",
        "\n",
        "    for i in range(int(n2*fold_size)):\n",
        "      temp2 = dataset_copy[dataset_copy['class']==1].sample()\n",
        "      fold.append(temp2)\n",
        "      dataset_copy = dataset_copy.drop(temp2.index)\n",
        "\n",
        "    dataset_split.append(fold)\n",
        "  #print(\"end of bootstrap\")\n",
        "  return dataset_split\n",
        "\n",
        "  "
      ]
    },
    {
      "cell_type": "code",
      "execution_count": null,
      "metadata": {
        "id": "BDfd5lQTbpmF"
      },
      "outputs": [],
      "source": [
        "#defining Entropy\n",
        "def Entropy(target):\n",
        "  \n",
        "  counts = target.value_counts()\n",
        "  \n",
        "  labels = np.unique(target)\n",
        "  probability = 0.0\n",
        "\n",
        "  for count in counts:\n",
        "    P = 0.0\n",
        "    term1 = count/np.sum(counts)\n",
        "    term2 = math.log2(count/np.sum(counts))\n",
        "    P = term1*term2\n",
        "    probability = probability + P\n",
        "  return -probability\n",
        "\n",
        "  "
      ]
    },
    {
      "cell_type": "code",
      "execution_count": null,
      "metadata": {
        "id": "9iAdedu8cAP4"
      },
      "outputs": [],
      "source": [
        "#define Best Split\n",
        "def best_split(df, features):\n",
        "  B = None\n",
        "  y = -1\n",
        "  \n",
        "  for feature in features:\n",
        "    ID = 0\n",
        "    ## entropy of the parent class\n",
        "    entropy = Entropy(df['class'])\n",
        "\n",
        "    #Average entropy\n",
        "    labels = np.unique(df[feature])\n",
        "    if len(labels)>0:\n",
        "      probability =0\n",
        "      i = 0\n",
        "\n",
        "      for v in labels:\n",
        "        count = len(df[df[feature]==v])\n",
        "        probability = count/len(df[feature])\n",
        "        cal_df =df[df[feature]==v] \n",
        "        De = Entropy(cal_df['class']) \n",
        "        ID = (probability * De) +ID\n",
        "        \n",
        "      i_g = entropy - ID\n",
        "      if i_g > y:\n",
        "        B = feature\n",
        "        y = i_g\n",
        "  \n",
        "  return B\n"
      ]
    },
    {
      "cell_type": "code",
      "execution_count": null,
      "metadata": {
        "id": "p-SOydLQcS3I"
      },
      "outputs": [],
      "source": [
        "#class node\n",
        "class Node:\n",
        "  \n",
        "  def __init__(self):\n",
        "    self.data = 0\n",
        "    self.leftChild = None\n",
        "    self.middleChild = None\n",
        "    self.rightChild = None\n",
        "\n",
        "    "
      ]
    },
    {
      "cell_type": "code",
      "execution_count": null,
      "metadata": {
        "id": "LMCki2YJcWXl"
      },
      "outputs": [],
      "source": [
        "#Growing Decision Trees\n",
        "def Decision_Trees(df):\n",
        "  \n",
        "  N = Node()\n",
        "  y = 0.0\n",
        "  new_data = df.sample(n=int(math.sqrt(15)),axis='columns')\n",
        "  features = list(new_data.columns[:15])\n",
        "  #features = list(df.columns[:15])\n",
        "\n",
        "  #stopping criteria 3\n",
        "  if len(df) < 5:\n",
        "    N.data = int(df['class'].mode().values[0])\n",
        "    return N\n",
        "\n",
        "  #stopping criteria 2\n",
        "  uni = len(np.unique(df['class']))\n",
        "  if uni == 1:\n",
        "    N.data =  int(np.unique(df['class']))\n",
        "    return N\n",
        "\n",
        "  \n",
        "  best_feature = Best_Split2(df, features)\n",
        "  N.data = best_feature \n",
        "  \n",
        "  for v in np.unique(df[best_feature]):\n",
        "\n",
        "    if len(df[df[best_feature]==0]) == 0 or len(df[df[best_feature]==1])==0 or len(df[df[best_feature]==2])==0:\n",
        "      N.data = int(df['class'].mode().values[0])\n",
        "      return N\n",
        "    #recursive function  \n",
        "    N.leftChild = Decision_Trees(df[df[best_feature]==0])\n",
        "    N.middleChild = Decision_Trees(df[df[best_feature]==1])\n",
        "    N.rightChild = Decision_Trees(df[df[best_feature]==2])\n",
        "  return N\n",
        "  \n",
        "    "
      ]
    },
    {
      "cell_type": "code",
      "execution_count": null,
      "metadata": {
        "id": "EUltK2zDfQ8V"
      },
      "outputs": [],
      "source": [
        "def random_forest(train, n_trees):\n",
        "  trees = list()\n",
        "  for i in range(n_trees):\n",
        "    #print(\"start of decision\")\n",
        "    tree = Decision_Trees(train)\n",
        "    #print(\"end of tree\")\n",
        "    trees.append(tree)\n",
        "  \n",
        "  return trees\n"
      ]
    },
    {
      "cell_type": "code",
      "execution_count": null,
      "metadata": {
        "id": "itazoeTd40mG"
      },
      "outputs": [],
      "source": [
        "#Predicting values\n",
        "def prediction(root, test, i ):\n",
        "  \n",
        "  if type(root.data) ==int:\n",
        "    leaf = root.data\n",
        "    return leaf\n",
        "\n",
        "  else:\n",
        "    value = test.at[i, root.data]\n",
        "    if value==0:\n",
        "      leaf = prediction(root.leftChild, test, i)\n",
        "\n",
        "    if value==1:\n",
        "      leaf = prediction(root.middleChild, test, i)\n",
        "\n",
        "    if value==2:\n",
        "      leaf = prediction(root.rightChild, test, i)\n",
        "  \n",
        "  return leaf\n",
        "\n",
        "  "
      ]
    },
    {
      "cell_type": "code",
      "execution_count": null,
      "metadata": {
        "id": "UtfD3D2Z6ApX"
      },
      "outputs": [],
      "source": [
        "def Majority_voting(train, test, n_trees):\n",
        "\n",
        "  \n",
        "  predicted_values_final = list()\n",
        "  \n",
        "  trees = random_forest(train, n_trees)\n",
        "\n",
        "  index = test.index.values  \n",
        "  for i in range(len(test)):\n",
        "    predicted_values = list()\n",
        "    for tree in trees:\n",
        "      predicted_values.append(prediction(tree, test.iloc[[i]], index[i]))\n",
        "\n",
        "    predicted_values_final.append(max(set(predicted_values), key = predicted_values.count))\n",
        "  \n",
        "\n",
        "  #print(\"predicted values\", predicted_values_final)\n",
        "  #print(\"test\", test['class'])\n",
        "  accuracy, precision, recall, f1_score = Metrics(predicted_values_final, test['class'])\n",
        "  #print(\"end of majority\")\n",
        "  return accuracy, precision, recall, f1_score\n",
        "\n",
        "  "
      ]
    },
    {
      "cell_type": "code",
      "execution_count": null,
      "metadata": {
        "id": "NJjzgrom8IJ5"
      },
      "outputs": [],
      "source": [
        "def Metrics(predicted_values_final, test):\n",
        "\n",
        "  #initializing confusion matrix \n",
        "  confusion_matrix = np.matrix([[0,0],[0,0]])\n",
        "\n",
        "  #calculating accuracy\n",
        "  score = 0\n",
        "  array = test.to_numpy()\n",
        "  #print(len(array))\n",
        "  #print(len(predicted_values_final))\n",
        "  for i in range(len(predicted_values_final)):\n",
        "    if predicted_values_final[i] == array[i]:\n",
        "      score +=1\n",
        "      if predicted_values_final[i] == 0:\n",
        "        confusion_matrix[0,0] += 1\n",
        "      else:\n",
        "        confusion_matrix[1,1] += 1\n",
        "    else:\n",
        "      if predicted_values_final[i] == 0:\n",
        "        confusion_matrix[1,0] += 1\n",
        "      else:\n",
        "        confusion_matrix[0,1] += 1\n",
        "  #print(\"confusion\", confusion_matrix)\n",
        "  accuracy = score/len(predicted_values_final)\n",
        "\n",
        "  #calculating precision of the model\n",
        "  if confusion_matrix[0,0]==0 and confusion_matrix[1,0]==0:\n",
        "    precision = 0\n",
        "  else:\n",
        "    precision = float(confusion_matrix[0,0]/ (confusion_matrix[0,0]+ confusion_matrix[1,0])) \n",
        "\n",
        "  #calculating recall of the model\n",
        "  if confusion_matrix[0,0]==0 and confusion_matrix[0,1]==0:\n",
        "    recall= 0\n",
        "  else:\n",
        "    recall = float(confusion_matrix[0,0]/ (confusion_matrix[0,0]+confusion_matrix[0,1]))\n",
        "    #print(\"recall\", recall)\n",
        "\n",
        "  #F-1 Score\n",
        "  f1_score = float((2 * (precision * recall)) / (precision + recall))\n",
        "\n",
        "  return accuracy, precision, recall, f1_score\n",
        "  "
      ]
    },
    {
      "cell_type": "code",
      "execution_count": null,
      "metadata": {
        "id": "3QLF9fptibZG"
      },
      "outputs": [],
      "source": [
        "def cross_validation(dataset, n_folds, n_trees):\n",
        "  #bootstraping using n_folds\n",
        "  dataset_split = bootstrap_data(dataset, n_folds)\n",
        "\n",
        "  #initializing metrics\n",
        "  avg_accuracy = list()\n",
        "  avg_precision = list()\n",
        "  avg_recall = list()\n",
        "  avg_f1score = list()\n",
        "\n",
        "  #iterating on the bootstraped data\n",
        "  for i in range(10):\n",
        "\n",
        "    #creating test data and training data for n_folds\n",
        "    test = pd.DataFrame(np.row_stack(dataset_split[i]), columns=columns)\n",
        "    count = 0\n",
        "    for j in range(10):\n",
        "      if i!=j:\n",
        "        if count == 0:\n",
        "          train = pd.DataFrame(np.row_stack(dataset_split[j]), columns=columns)\n",
        "        else:\n",
        "          temp_df = pd.DataFrame(np.row_stack(dataset_split[j]), columns=columns)\n",
        "          train = train.append(temp_df, ignore_index=False)\n",
        "        count +=1\n",
        "\n",
        "    m = len(train)\n",
        "    train1 = pd.DataFrame(train.sample(m))\n",
        "\n",
        "    t_accuracy, t_precision, t_recall, t_f1score = Majority_voting(train, test, n_trees)\n",
        "\n",
        "    avg_accuracy.append(t_accuracy)\n",
        "    avg_precision.append(t_precision)\n",
        "    avg_recall.append(t_recall)\n",
        "    avg_f1score.append(t_f1score)\n",
        "    #print(\"end of one k-fold\")\n",
        "  sum_accuracy = sum(avg_accuracy)/10\n",
        "  sum_precicion = sum(avg_precision)/10\n",
        "  sum_recall = sum(avg_recall)/10\n",
        "  sum_f1score = sum(avg_f1score)/10\n",
        "\n",
        "  return sum_accuracy, sum_precicion, sum_recall, sum_f1score\n",
        "  \n"
      ]
    },
    {
      "cell_type": "code",
      "execution_count": 1,
      "metadata": {
        "id": "KAgmJrxqZqku"
      },
      "outputs": [],
      "source": [
        "no_trees = [1,5,10,20,30,40,50]"
      ]
    },
    {
      "cell_type": "code",
      "source": [
        "a, p, r, f = [], [], [], []\n",
        "for i in no_trees:\n",
        "  \n",
        "  a1, p1, r1, f1 = cross_validation(df, 10, i)\n",
        "  a.append(a1)\n",
        "  p.append(p1)\n",
        "  r.append(r1)\n",
        "  f.append(f1)"
      ],
      "metadata": {
        "id": "aBuAKC2zg6kZ"
      },
      "execution_count": null,
      "outputs": []
    },
    {
      "cell_type": "code",
      "source": [
        "plt.plot(no_trees, a)\n",
        "plt.xlabel('n_Trees')\n",
        "plt.ylabel('Accuracy')"
      ],
      "metadata": {
        "colab": {
          "base_uri": "https://localhost:8080/",
          "height": 297
        },
        "id": "SIuXmIZ3hyAN",
        "outputId": "32cca925-cbf5-436a-d328-30f17d0c3275"
      },
      "execution_count": 5,
      "outputs": [
        {
          "output_type": "execute_result",
          "data": {
            "text/plain": [
              "Text(0, 0.5, 'Accuracy')"
            ]
          },
          "metadata": {},
          "execution_count": 5
        },
        {
          "output_type": "display_data",
          "data": {
            "text/plain": [
              "<Figure size 432x288 with 1 Axes>"
            ],
            "image/png": "[encoded data removed]"
          },
          "metadata": {
            "needs_background": "light"
          }
        }
      ]
    },
    {
      "cell_type": "code",
      "source": [
        "plt.plot(no_trees, p)\n",
        "plt.xlabel('n_Trees')\n",
        "plt.ylabel('Precision')"
      ],
      "metadata": {
        "colab": {
          "base_uri": "https://localhost:8080/",
          "height": 297
        },
        "id": "CVCJrId1h0Rt",
        "outputId": "4deaaf5b-630b-4e19-f1f0-84d754e46ad2"
      },
      "execution_count": 6,
      "outputs": [
        {
          "output_type": "execute_result",
          "data": {
            "text/plain": [
              "Text(0, 0.5, 'Precision')"
            ]
          },
          "metadata": {},
          "execution_count": 6
        },
        {
          "output_type": "display_data",
          "data": {
            "text/plain": [
              "<Figure size 432x288 with 1 Axes>"
            ],
            "image/png": "[encoded data removed]"
          },
          "metadata": {
            "needs_background": "light"
          }
        }
      ]
    },
    {
      "cell_type": "code",
      "source": [
        "plt.plot(no_trees, r)\n",
        "plt.xlabel('n_Trees')\n",
        "plt.ylabel('Recall')\n"
      ],
      "metadata": {
        "colab": {
          "base_uri": "https://localhost:8080/",
          "height": 297
        },
        "id": "rCzHOOXsh3PM",
        "outputId": "298c6ba9-4abf-43a6-9d75-5664e6029e20"
      },
      "execution_count": 7,
      "outputs": [
        {
          "output_type": "execute_result",
          "data": {
            "text/plain": [
              "Text(0, 0.5, 'Recall')"
            ]
          },
          "metadata": {},
          "execution_count": 7
        },
        {
          "output_type": "display_data",
          "data": {
            "text/plain": [
              "<Figure size 432x288 with 1 Axes>"
            ],
            "image/png": "[encoded data removed]"
          },
          "metadata": {
            "needs_background": "light"
          }
        }
      ]
    },
    {
      "cell_type": "code",
      "source": [
        "plt.plot(no_trees, f)\n",
        "plt.xlabel('n_Trees')\n",
        "plt.ylabel('F-1_score')\n"
      ],
      "metadata": {
        "colab": {
          "base_uri": "https://localhost:8080/",
          "height": 297
        },
        "id": "AxjcQXxhh56x",
        "outputId": "c92f23fc-8b99-4485-a329-2862503221f9"
      },
      "execution_count": 8,
      "outputs": [
        {
          "output_type": "execute_result",
          "data": {
            "text/plain": [
              "Text(0, 0.5, 'F-1_score')"
            ]
          },
          "metadata": {},
          "execution_count": 8
        },
        {
          "output_type": "display_data",
          "data": {
            "text/plain": [
              "<Figure size 432x288 with 1 Axes>"
            ],
            "image/png": "[encoded data removed]"
          },
          "metadata": {
            "needs_background": "light"
          }
        }
      ]
    },
    {
      "cell_type": "code",
      "execution_count": null,
      "metadata": {
        "id": "hNRd468caQCs"
      },
      "outputs": [],
      "source": [
        "def Best_Split2(dataset, features):\n",
        "\n",
        "  y=0\n",
        "  B = None\n",
        "\n",
        "  for feature in features:\n",
        "\n",
        "    prob_final = 0\n",
        "\n",
        "    labels = np.unique(dataset[feature])\n",
        "    \n",
        "    if len(labels)>0 and len(dataset[feature])>0:\n",
        "      for v in labels:\n",
        "        prob_sum = 0 \n",
        "        c = dataset[dataset[feature]==v]\n",
        "        for x in np.unique(c['class']):\n",
        "          count = len(c[c['class']==x])\n",
        "          probability = pow( count/len(c), 2)\n",
        "          prob_sum = probability +prob_sum\n",
        "          \n",
        "        prob_final = ((len(c)/ len(dataset[feature])) * (1-prob_sum) ) + prob_final\n",
        "      \n",
        "      \n",
        "      if prob_final >= y:\n",
        "          B = feature\n",
        "          y = prob_final\n",
        "  \n",
        "  return B\n"
      ]
    },
    {
      "cell_type": "code",
      "source": [
        "a, p, r, f = [], [], [], []\n",
        "for i in no_trees:\n",
        "  \n",
        "  a1, p1, r1, f1 = cross_validation(df, 10, i)\n",
        "  a.append(a1)\n",
        "  p.append(p1)\n",
        "  r.append(r1)\n",
        "  f.append(f1)"
      ],
      "metadata": {
        "id": "01T-1OV9j8pt"
      },
      "execution_count": null,
      "outputs": []
    },
    {
      "cell_type": "code",
      "source": [
        "plt.plot(no_trees, a)\n",
        "plt.xlabel('n_Trees')\n",
        "plt.ylabel('Accuracy')"
      ],
      "metadata": {
        "colab": {
          "base_uri": "https://localhost:8080/",
          "height": 297
        },
        "id": "suTm7rlSiEkU",
        "outputId": "961bdb18-1913-4851-c63f-b87f23293f82"
      },
      "execution_count": 10,
      "outputs": [
        {
          "output_type": "execute_result",
          "data": {
            "text/plain": [
              "Text(0, 0.5, 'Accuracy')"
            ]
          },
          "metadata": {},
          "execution_count": 10
        },
        {
          "output_type": "display_data",
          "data": {
            "text/plain": [
              "<Figure size 432x288 with 1 Axes>"
            ],
            "image/png": "[encoded data removed]"
          },
          "metadata": {
            "needs_background": "light"
          }
        }
      ]
    },
    {
      "cell_type": "code",
      "source": [
        "plt.plot(no_trees, p)\n",
        "plt.xlabel('n_Trees')\n",
        "plt.ylabel('Precision')"
      ],
      "metadata": {
        "colab": {
          "base_uri": "https://localhost:8080/",
          "height": 297
        },
        "id": "ykx1U6sFiCB3",
        "outputId": "c8ab9cfe-0ba4-472f-9bf9-9a92f2b6522b"
      },
      "execution_count": 11,
      "outputs": [
        {
          "output_type": "execute_result",
          "data": {
            "text/plain": [
              "Text(0, 0.5, 'Precision')"
            ]
          },
          "metadata": {},
          "execution_count": 11
        },
        {
          "output_type": "display_data",
          "data": {
            "text/plain": [
              "<Figure size 432x288 with 1 Axes>"
            ],
            "image/png": "[encoded data removed]"
          },
          "metadata": {
            "needs_background": "light"
          }
        }
      ]
    },
    {
      "cell_type": "code",
      "source": [
        "plt.plot(no_trees, r)\n",
        "plt.xlabel('n_Trees')\n",
        "plt.ylabel('Recall')\n"
      ],
      "metadata": {
        "colab": {
          "base_uri": "https://localhost:8080/",
          "height": 297
        },
        "id": "JZ9Oheg7h-vP",
        "outputId": "c3d36894-83dd-4a79-98dc-bd635c960a99"
      },
      "execution_count": 12,
      "outputs": [
        {
          "output_type": "execute_result",
          "data": {
            "text/plain": [
              "Text(0, 0.5, 'Recall')"
            ]
          },
          "metadata": {},
          "execution_count": 12
        },
        {
          "output_type": "display_data",
          "data": {
            "text/plain": [
              "<Figure size 432x288 with 1 Axes>"
            ],
            "image/png": "[encoded data removed]"
          },
          "metadata": {
            "needs_background": "light"
          }
        }
      ]
    },
    {
      "cell_type": "code",
      "source": [
        "plt.plot(no_trees, f)\n",
        "plt.xlabel('n_Trees')\n",
        "plt.ylabel('F-1_score')\n"
      ],
      "metadata": {
        "colab": {
          "base_uri": "https://localhost:8080/",
          "height": 297
        },
        "id": "_grGOVPth-RO",
        "outputId": "f1c37e13-b49d-4994-9b26-1981b55b0f15"
      },
      "execution_count": 13,
      "outputs": [
        {
          "output_type": "execute_result",
          "data": {
            "text/plain": [
              "Text(0, 0.5, 'F-1_score')"
            ]
          },
          "metadata": {},
          "execution_count": 13
        },
        {
          "output_type": "display_data",
          "data": {
            "text/plain": [
              "<Figure size 432x288 with 1 Axes>"
            ],
            "image/png": "[encoded data removed]"
          },
          "metadata": {
            "needs_background": "light"
          }
        }
      ]
    }
  ],
  "metadata": {
    "colab": {
      "collapsed_sections": [],
      "name": "Randome_forest_Categorical_Data.ipynb",
      "provenance": [],
      "authorship_tag": "ABX9TyO/S9KqhY/CyNq74ATac+u5",
      "include_colab_link": true
    },
    "kernelspec": {
      "display_name": "Python 3",
      "name": "python3"
    },
    "language_info": {
      "name": "python"
    }
  },
  "nbformat": 4,
  "nbformat_minor": 0
}